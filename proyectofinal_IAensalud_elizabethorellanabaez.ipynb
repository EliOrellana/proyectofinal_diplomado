{
  "nbformat": 4,
  "nbformat_minor": 0,
  "metadata": {
    "colab": {
      "provenance": [],
      "authorship_tag": "ABX9TyPrHWSTo8IKSQxnHTczPxdq",
      "include_colab_link": true
    },
    "kernelspec": {
      "name": "python3",
      "display_name": "Python 3"
    },
    "language_info": {
      "name": "python"
    }
  },
  "cells": [
    {
      "cell_type": "markdown",
      "metadata": {
        "id": "view-in-github",
        "colab_type": "text"
      },
      "source": [
        "<a href=\"https://colab.research.google.com/github/EliOrellana/proyectofinal_diplomado/blob/main/proyectofinal_IAensalud_elizabethorellanabaez.ipynb\" target=\"_parent\"><img src=\"https://colab.research.google.com/assets/colab-badge.svg\" alt=\"Open In Colab\"/></a>"
      ]
    },
    {
      "cell_type": "markdown",
      "source": [
        "# **1.Exploración inicial del conjunto de datos elegido**"
      ],
      "metadata": {
        "id": "zDWJ9oNSRePy"
      }
    },
    {
      "cell_type": "markdown",
      "source": [
        "# Instalación de librerías"
      ],
      "metadata": {
        "id": "fSSAOH4bQkGt"
      }
    },
    {
      "cell_type": "code",
      "execution_count": 141,
      "metadata": {
        "id": "qnDm5SjHRakd"
      },
      "outputs": [],
      "source": [
        "import pandas as pd\n",
        "import numpy as np\n",
        "import sklearn as sk\n",
        "import matplotlib.pyplot as plt\n",
        "import seaborn as sns\n",
        "import random\n",
        "import io\n",
        "import requests\n",
        "import timeit\n",
        "%matplotlib notebook\n",
        "%matplotlib inline"
      ]
    },
    {
      "cell_type": "markdown",
      "source": [
        "# Descripción del conjunto de datos"
      ],
      "metadata": {
        "id": "6guifdFLbBkJ"
      }
    },
    {
      "cell_type": "code",
      "source": [
        "df = pd.read_csv('/content/Fichas CLAP TOTAL.csv')\n",
        "print(df.shape)\n",
        "df.head()\n",
        "\n",
        "print(\"Información general del DataFrame:\")\n",
        "print(df.info())"
      ],
      "metadata": {
        "id": "E9sds6O2TR8c",
        "colab": {
          "base_uri": "https://localhost:8080/"
        },
        "outputId": "2e326947-bf69-4807-cecf-91f2333675c5"
      },
      "execution_count": 142,
      "outputs": [
        {
          "output_type": "stream",
          "name": "stdout",
          "text": [
            "(986, 45)\n",
            "Información general del DataFrame:\n",
            "<class 'pandas.core.frame.DataFrame'>\n",
            "RangeIndex: 986 entries, 0 to 985\n",
            "Data columns (total 45 columns):\n",
            " #   Column                                              Non-Null Count  Dtype \n",
            "---  ------                                              --------------  ----- \n",
            " 0   ESTABLECIMIENTO DE SALUD                            986 non-null    object\n",
            " 1   RUT                                                 986 non-null    object\n",
            " 2   NOMBRE ADOLESCENTE                                  986 non-null    object\n",
            " 3   FECHA DE NACIMIENTO                                 986 non-null    object\n",
            " 4   EDAD                                                986 non-null    int64 \n",
            " 5   PUEBLO ORIGINARIO                                   986 non-null    object\n",
            " 6   NACIONALIDAD                                        986 non-null    object\n",
            " 7   SEXO                                                986 non-null    object\n",
            " 8   PREVISION DE SALUD                                  986 non-null    object\n",
            " 9   FECHA DE ATENCION                                   986 non-null    object\n",
            " 10  PROFESIONAL QUE APLICA INSTRUMENTO                  986 non-null    object\n",
            " 11   ACOMPAÑADO POR ALGUIEN                             986 non-null    object\n",
            " 12  ANTECEDENTES PERINATALES NORMALES                   986 non-null    object\n",
            " 13  ENFERMEDADES IMPORTANTES                            986 non-null    object\n",
            " 14  TIENE DISCAPACIDAD                                  986 non-null    object\n",
            " 15  PROBLEMAS DE SALUD MENTAL                           986 non-null    object\n",
            " 16  SUFRE VIOLENCIA                                     986 non-null    object\n",
            " 17  PROBLEMAS JUDICIALES                                986 non-null    object\n",
            " 18  CONSUMO DE ALCOHOL Y OTRAS  DROGAS                  986 non-null    object\n",
            " 19  MADRE Y/O PADRE ADOLESCENTE                         986 non-null    object\n",
            " 20  NIVEL EDUCACIONAL DE MADRE O SUSTITUTA              986 non-null    object\n",
            " 21  NIVEL EDUCACIONAL DE PADRE O SUSTITUTO              986 non-null    object\n",
            " 22  RELACION CON SU FAMILIA                             986 non-null    object\n",
            " 23  COMPARTE CAMA CON ALGUIEN                           986 non-null    object\n",
            " 24  CONDICIONES SANITARIAS DE DOMICILIO                 986 non-null    object\n",
            " 25  HACINAMIENTO EN DOMICILIO                           986 non-null    object\n",
            " 26  NIVEL DE ESTUDIO                                    986 non-null    object\n",
            " 27  PROBLEMA EN INSTITUCIÓN EDUCATIVA                   986 non-null    object\n",
            " 28  VIOLENCIA ESCOLAR Y/O BULLYNG                       986 non-null    object\n",
            " 29  DESERCIÓN O EXCLUSIÓN ESCOLAR                       986 non-null    object\n",
            " 30  TRABAJA                                             986 non-null    object\n",
            " 31  TIENE AMIGOS                                        986 non-null    object\n",
            " 32  TIENE EL SUEÑO NORMAL                               986 non-null    object\n",
            " 33  CONSUME TABACO                                      986 non-null    object\n",
            " 34  ORIENTACIÓN SEXUAL                                  986 non-null    object\n",
            " 35  INTENCIÓN O CONDUCTA SEXUAL                         986 non-null    object\n",
            " 36  USO MAC ACTUAL                                      986 non-null    object\n",
            " 37  EL ADOLESCENTE HA RECIBIDO CONSEJERÍA SOBRE MAC     986 non-null    object\n",
            " 38  VIOLENCIA SEXUAL                                    986 non-null    object\n",
            " 39  PERCEPCIÓN DE IMAGEN CORPORAL                       986 non-null    object\n",
            " 40  PROYECCIÓN DE VIDA                                  986 non-null    object\n",
            " 41  HA EXISTIDO IDEACIÓN SUICIDA EN EL ÚLTIMO MES       986 non-null    object\n",
            " 42  HA EXISTIDO INTENTO SUICIDA EN LOS ÚLTIMOS 3 MESES  986 non-null    object\n",
            " 43  REFERENTE ADULTO                                    986 non-null    object\n",
            " 44  DIAGNÓSTICO NUTRICIONAL                             986 non-null    object\n",
            "dtypes: int64(1), object(44)\n",
            "memory usage: 346.8+ KB\n",
            "None\n"
          ]
        }
      ]
    },
    {
      "cell_type": "markdown",
      "source": [
        "Estadísticas descriptivas"
      ],
      "metadata": {
        "id": "IvAUuIh_qhMD"
      }
    },
    {
      "cell_type": "code",
      "source": [
        "print(\"\\nEstadísticas descriptivas:\")\n",
        "print(df.describe())\n",
        "df.head()\n",
        "\n",
        "print(\"\\nVarianza de las columnas numéricas:\")\n",
        "numeric_df = df.select_dtypes(include=np.number)\n",
        "print(numeric_df.var())\n",
        "\n",
        "rango = df['EDAD'].max() - df['EDAD'].min()\n",
        "print(f\"El rango de la columna 'EDAD' es: {rango}\")"
      ],
      "metadata": {
        "id": "0UwPeB8ibJxC",
        "colab": {
          "base_uri": "https://localhost:8080/"
        },
        "outputId": "8a37d516-1996-4247-90d7-342e57cc7c88"
      },
      "execution_count": 143,
      "outputs": [
        {
          "output_type": "stream",
          "name": "stdout",
          "text": [
            "\n",
            "Estadísticas descriptivas:\n",
            "             EDAD\n",
            "count  986.000000\n",
            "mean    14.803245\n",
            "std      2.447381\n",
            "min     10.000000\n",
            "25%     13.000000\n",
            "50%     15.000000\n",
            "75%     17.000000\n",
            "max     19.000000\n",
            "\n",
            "Varianza de las columnas numéricas:\n",
            "EDAD    5.989675\n",
            "dtype: float64\n",
            "El rango de la columna 'EDAD' es: 9\n"
          ]
        }
      ]
    },
    {
      "cell_type": "markdown",
      "source": [
        "Número de elementos"
      ],
      "metadata": {
        "id": "c97-wkTokQrx"
      }
    },
    {
      "cell_type": "code",
      "source": [
        "df.size"
      ],
      "metadata": {
        "id": "EMvyD1JqkPRH",
        "colab": {
          "base_uri": "https://localhost:8080/"
        },
        "outputId": "027d0c29-4b7f-42d3-c523-c4eee6e71215"
      },
      "execution_count": 144,
      "outputs": [
        {
          "output_type": "execute_result",
          "data": {
            "text/plain": [
              "44370"
            ]
          },
          "metadata": {},
          "execution_count": 144
        }
      ]
    },
    {
      "cell_type": "markdown",
      "source": [
        "Nombres de las columnas"
      ],
      "metadata": {
        "id": "LdiB9r_tkT4S"
      }
    },
    {
      "cell_type": "code",
      "source": [
        "df.columns"
      ],
      "metadata": {
        "id": "6Ir02PFBkaF_",
        "colab": {
          "base_uri": "https://localhost:8080/"
        },
        "outputId": "140973ac-6985-4a47-8563-f13b9f1af787"
      },
      "execution_count": 145,
      "outputs": [
        {
          "output_type": "execute_result",
          "data": {
            "text/plain": [
              "Index(['ESTABLECIMIENTO DE SALUD', 'RUT', 'NOMBRE ADOLESCENTE',\n",
              "       'FECHA DE NACIMIENTO', 'EDAD', 'PUEBLO ORIGINARIO', 'NACIONALIDAD',\n",
              "       'SEXO', 'PREVISION DE SALUD', 'FECHA DE ATENCION',\n",
              "       'PROFESIONAL QUE APLICA INSTRUMENTO', ' ACOMPAÑADO POR ALGUIEN',\n",
              "       'ANTECEDENTES PERINATALES NORMALES', 'ENFERMEDADES IMPORTANTES',\n",
              "       'TIENE DISCAPACIDAD', 'PROBLEMAS DE SALUD MENTAL', 'SUFRE VIOLENCIA',\n",
              "       'PROBLEMAS JUDICIALES', 'CONSUMO DE ALCOHOL Y OTRAS  DROGAS',\n",
              "       'MADRE Y/O PADRE ADOLESCENTE', 'NIVEL EDUCACIONAL DE MADRE O SUSTITUTA',\n",
              "       'NIVEL EDUCACIONAL DE PADRE O SUSTITUTO', 'RELACION CON SU FAMILIA',\n",
              "       'COMPARTE CAMA CON ALGUIEN', 'CONDICIONES SANITARIAS DE DOMICILIO',\n",
              "       'HACINAMIENTO EN DOMICILIO', 'NIVEL DE ESTUDIO',\n",
              "       'PROBLEMA EN INSTITUCIÓN EDUCATIVA', 'VIOLENCIA ESCOLAR Y/O BULLYNG',\n",
              "       'DESERCIÓN O EXCLUSIÓN ESCOLAR', 'TRABAJA', 'TIENE AMIGOS',\n",
              "       'TIENE EL SUEÑO NORMAL', 'CONSUME TABACO', 'ORIENTACIÓN SEXUAL',\n",
              "       'INTENCIÓN O CONDUCTA SEXUAL', 'USO MAC ACTUAL',\n",
              "       'EL ADOLESCENTE HA RECIBIDO CONSEJERÍA SOBRE MAC', 'VIOLENCIA SEXUAL',\n",
              "       'PERCEPCIÓN DE IMAGEN CORPORAL', 'PROYECCIÓN DE VIDA',\n",
              "       'HA EXISTIDO IDEACIÓN SUICIDA EN EL ÚLTIMO MES',\n",
              "       'HA EXISTIDO INTENTO SUICIDA EN LOS ÚLTIMOS 3 MESES',\n",
              "       'REFERENTE ADULTO', 'DIAGNÓSTICO NUTRICIONAL'],\n",
              "      dtype='object')"
            ]
          },
          "metadata": {},
          "execution_count": 145
        }
      ]
    },
    {
      "cell_type": "markdown",
      "source": [
        "## **2. Preprocesamiento de Datos**"
      ],
      "metadata": {
        "id": "qNeQyHeqk_iM"
      }
    },
    {
      "cell_type": "markdown",
      "source": [
        "Datos duplicados"
      ],
      "metadata": {
        "id": "VPg4yPdhkhiV"
      }
    },
    {
      "cell_type": "code",
      "source": [
        "print(f\"\\nNúmero de filas duplicadas: {df.duplicated().sum()}\")\n",
        "\n",
        "df.duplicated()\n",
        "dato_370 = df.iloc[369]\n",
        "print(dato_370)\n",
        "df_new = df.drop_duplicates()\n",
        "df_new"
      ],
      "metadata": {
        "id": "fjwGS9kzkiJM",
        "colab": {
          "base_uri": "https://localhost:8080/",
          "height": 1000
        },
        "outputId": "fe146dbe-0f0e-4f1b-b243-bfbb975fb105"
      },
      "execution_count": 146,
      "outputs": [
        {
          "output_type": "stream",
          "name": "stdout",
          "text": [
            "\n",
            "Número de filas duplicadas: 0\n",
            "ESTABLECIMIENTO DE SALUD                               Centro de Salud Familiar Alto Jahuel \n",
            "RUT                                                                              22590054-k \n",
            "NOMBRE ADOLESCENTE                                                   Emiliano Catalan Gomez \n",
            "FECHA DE NACIMIENTO                                                              20/12/2007 \n",
            "EDAD                                                                                      15\n",
            "PUEBLO ORIGINARIO                                                                   Ninguno \n",
            "NACIONALIDAD                                                                        Chilena \n",
            "SEXO                                                                                 Hombre \n",
            "PREVISION DE SALUD                                                                 Fonasa B \n",
            "FECHA DE ATENCION                                                                18/04/2023 \n",
            "PROFESIONAL QUE APLICA INSTRUMENTO                                                Matron(a) \n",
            " ACOMPAÑADO POR ALGUIEN                                                               Madre \n",
            "ANTECEDENTES PERINATALES NORMALES                                                        No \n",
            "ENFERMEDADES IMPORTANTES                                                                 No \n",
            "TIENE DISCAPACIDAD                                                                       No \n",
            "PROBLEMAS DE SALUD MENTAL                                                                Si \n",
            "SUFRE VIOLENCIA                                                                          No \n",
            "PROBLEMAS JUDICIALES                                                                     No \n",
            "CONSUMO DE ALCOHOL Y OTRAS  DROGAS                                                       No \n",
            "MADRE Y/O PADRE ADOLESCENTE                                                              Si \n",
            "NIVEL EDUCACIONAL DE MADRE O SUSTITUTA                                                Media \n",
            "NIVEL EDUCACIONAL DE PADRE O SUSTITUTO                                             Superior \n",
            "RELACION CON SU FAMILIA                                                               Buena \n",
            "COMPARTE CAMA CON ALGUIEN                                                                NO \n",
            "CONDICIONES SANITARIAS DE DOMICILIO                                                      SI \n",
            "HACINAMIENTO EN DOMICILIO                                                                NO \n",
            "NIVEL DE ESTUDIO                                                                      Media \n",
            "PROBLEMA EN INSTITUCIÓN EDUCATIVA                                                        NO \n",
            "VIOLENCIA ESCOLAR Y/O BULLYNG                                                            NO \n",
            "DESERCIÓN O EXCLUSIÓN ESCOLAR                                                            NO \n",
            "TRABAJA                                                                                  NO \n",
            "TIENE AMIGOS                                                                             SI \n",
            "TIENE EL SUEÑO NORMAL                                                                    NO \n",
            "CONSUME TABACO                                                                           SI \n",
            "ORIENTACIÓN SEXUAL                                                             Heterosexual \n",
            "INTENCIÓN O CONDUCTA SEXUAL                                                    Postergadora \n",
            "USO MAC ACTUAL                                                                      Siempre \n",
            "EL ADOLESCENTE HA RECIBIDO CONSEJERÍA SOBRE MAC                                          SI \n",
            "VIOLENCIA SEXUAL                                                                         NO \n",
            "PERCEPCIÓN DE IMAGEN CORPORAL                                                      Conforme \n",
            "PROYECCIÓN DE VIDA                                                                  Confuso \n",
            "HA EXISTIDO IDEACIÓN SUICIDA EN EL ÚLTIMO MES                                            NO \n",
            "HA EXISTIDO INTENTO SUICIDA EN LOS ÚLTIMOS 3 MESES                                       NO \n",
            "REFERENTE ADULTO                                                                      Madre \n",
            "DIAGNÓSTICO NUTRICIONAL                                                   Normal o Eutrofia \n",
            "Name: 369, dtype: object\n"
          ]
        },
        {
          "output_type": "execute_result",
          "data": {
            "text/plain": [
              "             ESTABLECIMIENTO DE SALUD           RUT  \\\n",
              "0     Centro de Salud Familiar Maipo    22977057-8    \n",
              "1     Centro de Salud Familiar Maipo    22599229-0    \n",
              "2     Centro de Salud Familiar Maipo    23300139-2    \n",
              "3     Centro de Salud Familiar Maipo    21928882-4    \n",
              "4     Centro de Salud Familiar Maipo    22717004-2    \n",
              "..                                ...           ...   \n",
              "981         CECOSF Dr. Ramón Galindo    21852992-5    \n",
              "982         CECOSF Dr. Ramón Galindo    22445098-2    \n",
              "983         CECOSF Dr. Ramón Galindo    21721458-0    \n",
              "984         CECOSF Dr. Ramón Galindo    22108142-0    \n",
              "985         CECOSF Dr. Ramón Galindo    22917072-4    \n",
              "\n",
              "                   NOMBRE ADOLESCENTE FECHA DE NACIMIENTO  EDAD  \\\n",
              "0       Camila Karla Navarro Morales          19/03/2009     13   \n",
              "1     Diego Agustin Carrasco Cornejo          06/01/2008     14   \n",
              "2           Martina Carrasco Cornejo          19/04/2010     12   \n",
              "3                  Jose Campos Cerda          06/09/2005     16   \n",
              "4     Francisca Catalina Fredes Soto          11/05/2008     13   \n",
              "..                                ...                 ...   ...   \n",
              "981         Alondra Paz Medina Ulloa          02/06/2005     18   \n",
              "982     Danae Yeraldi Madrid Acevedo          21/07/2007     16   \n",
              "983         Benjamin Palma Inostroza          25/11/2004     19   \n",
              "984       Antonella Anabalon Morales          19/04/2006     18   \n",
              "985          Juan Pablo Cornejo Lara          03/01/2009     15   \n",
              "\n",
              "    PUEBLO ORIGINARIO NACIONALIDAD      SEXO PREVISION DE SALUD  \\\n",
              "0            Ninguno      Chilena     Mujer           Fonasa A    \n",
              "1            Ninguno      Chilena    Hombre           Fonasa C    \n",
              "2            Ninguno      Chilena     Mujer           Fonasa C    \n",
              "3            Ninguno      Chilena    Hombre           Fonasa C    \n",
              "4            Ninguno      Chilena     Mujer           Fonasa A    \n",
              "..                ...          ...       ...                ...   \n",
              "981          Ninguno      Chilena     Mujer           Fonasa B    \n",
              "982          Ninguno      Chilena     Mujer           Fonasa B    \n",
              "983          Ninguno      Chilena    Hombre           Fonasa B    \n",
              "984          Ninguno      Chilena     Mujer           Fonasa B    \n",
              "985          Ninguno      Chilena    Hombre           Fonasa B    \n",
              "\n",
              "    FECHA DE ATENCION  ... INTENCIÓN O CONDUCTA SEXUAL USO MAC ACTUAL  \\\n",
              "0         03/06/2022   ...               Postergadora          Nunca    \n",
              "1         10/05/2022   ...               Postergadora          Nunca    \n",
              "2         10/05/2022   ...               Postergadora          Nunca    \n",
              "3         03/05/2022   ...               Postergadora          Nunca    \n",
              "4         07/05/2022   ...               Postergadora          Nunca    \n",
              "..                ...  ...                         ...            ...   \n",
              "981       10/04/2024   ...                     Activa        Siempre    \n",
              "982       17/05/2024   ...                     Activa        Siempre    \n",
              "983       14/06/2024   ...                     Activa        Siempre    \n",
              "984       08/05/2024   ...                     Activa        Siempre    \n",
              "985       22/05/2024   ...                     Activa          Nunca    \n",
              "\n",
              "    EL ADOLESCENTE HA RECIBIDO CONSEJERÍA SOBRE MAC VIOLENCIA SEXUAL  \\\n",
              "0                                               NO               NO    \n",
              "1                                               SI               NO    \n",
              "2                                               SI               NO    \n",
              "3                                               SI               NO    \n",
              "4                                               SI               NO    \n",
              "..                                              ...              ...   \n",
              "981                                             NO               NO    \n",
              "982                                             SI               NO    \n",
              "983                                             SI               NO    \n",
              "984                                             SI               NO    \n",
              "985                                             NO               NO    \n",
              "\n",
              "       PERCEPCIÓN DE IMAGEN CORPORAL PROYECCIÓN DE VIDA  \\\n",
              "0                 Crea preocupación            Ausente    \n",
              "1                          Conforme            Confuso    \n",
              "2                          Conforme              Claro    \n",
              "3                          Conforme              Claro    \n",
              "4     Impide relación con los demás            Confuso    \n",
              "..                               ...                ...   \n",
              "981               Crea preocupación              Claro    \n",
              "982                        Conforme              Claro    \n",
              "983                        Conforme              Claro    \n",
              "984                        Conforme              Claro    \n",
              "985                        Conforme              Claro    \n",
              "\n",
              "    HA EXISTIDO IDEACIÓN SUICIDA EN EL ÚLTIMO MES  \\\n",
              "0                                             NO    \n",
              "1                                             NO    \n",
              "2                                             NO    \n",
              "3                                             NO    \n",
              "4                                             NO    \n",
              "..                                            ...   \n",
              "981                                           NO    \n",
              "982                                           NO    \n",
              "983                                           NO    \n",
              "984                                           NO    \n",
              "985                                           NO    \n",
              "\n",
              "    HA EXISTIDO INTENTO SUICIDA EN LOS ÚLTIMOS 3 MESES REFERENTE ADULTO  \\\n",
              "0                                                  NO            Padre    \n",
              "1                                                  NO            Madre    \n",
              "2                                                  NO            Madre    \n",
              "3                                                  NO            Madre    \n",
              "4                                                  NO         Familiar    \n",
              "..                                                 ...              ...   \n",
              "981                                                NO            Madre    \n",
              "982                                                NO            Madre    \n",
              "983                                                NO            Madre    \n",
              "984                                                NO         Familiar    \n",
              "985                                                NO            Madre    \n",
              "\n",
              "           DIAGNÓSTICO NUTRICIONAL  \n",
              "0                    Obeso Severo   \n",
              "1      Déficit ponderal Bajo Peso   \n",
              "2               Normal o Eutrofia   \n",
              "3               Normal o Eutrofia   \n",
              "4                           Obeso   \n",
              "..                             ...  \n",
              "981             Normal o Eutrofia   \n",
              "982             Normal o Eutrofia   \n",
              "983             Normal o Eutrofia   \n",
              "984   Sobrepeso / Riesgo obesidad   \n",
              "985   Sobrepeso / Riesgo obesidad   \n",
              "\n",
              "[986 rows x 45 columns]"
            ],
            "text/html": [
              "\n",
              "  <div id=\"df-b018e1dd-0887-4e11-b23e-ec9b85f8a329\" class=\"colab-df-container\">\n",
              "    <div>\n",
              "<style scoped>\n",
              "    .dataframe tbody tr th:only-of-type {\n",
              "        vertical-align: middle;\n",
              "    }\n",
              "\n",
              "    .dataframe tbody tr th {\n",
              "        vertical-align: top;\n",
              "    }\n",
              "\n",
              "    .dataframe thead th {\n",
              "        text-align: right;\n",
              "    }\n",
              "</style>\n",
              "<table border=\"1\" class=\"dataframe\">\n",
              "  <thead>\n",
              "    <tr style=\"text-align: right;\">\n",
              "      <th></th>\n",
              "      <th>ESTABLECIMIENTO DE SALUD</th>\n",
              "      <th>RUT</th>\n",
              "      <th>NOMBRE ADOLESCENTE</th>\n",
              "      <th>FECHA DE NACIMIENTO</th>\n",
              "      <th>EDAD</th>\n",
              "      <th>PUEBLO ORIGINARIO</th>\n",
              "      <th>NACIONALIDAD</th>\n",
              "      <th>SEXO</th>\n",
              "      <th>PREVISION DE SALUD</th>\n",
              "      <th>FECHA DE ATENCION</th>\n",
              "      <th>...</th>\n",
              "      <th>INTENCIÓN O CONDUCTA SEXUAL</th>\n",
              "      <th>USO MAC ACTUAL</th>\n",
              "      <th>EL ADOLESCENTE HA RECIBIDO CONSEJERÍA SOBRE MAC</th>\n",
              "      <th>VIOLENCIA SEXUAL</th>\n",
              "      <th>PERCEPCIÓN DE IMAGEN CORPORAL</th>\n",
              "      <th>PROYECCIÓN DE VIDA</th>\n",
              "      <th>HA EXISTIDO IDEACIÓN SUICIDA EN EL ÚLTIMO MES</th>\n",
              "      <th>HA EXISTIDO INTENTO SUICIDA EN LOS ÚLTIMOS 3 MESES</th>\n",
              "      <th>REFERENTE ADULTO</th>\n",
              "      <th>DIAGNÓSTICO NUTRICIONAL</th>\n",
              "    </tr>\n",
              "  </thead>\n",
              "  <tbody>\n",
              "    <tr>\n",
              "      <th>0</th>\n",
              "      <td>Centro de Salud Familiar Maipo</td>\n",
              "      <td>22977057-8</td>\n",
              "      <td>Camila Karla Navarro Morales</td>\n",
              "      <td>19/03/2009</td>\n",
              "      <td>13</td>\n",
              "      <td>Ninguno</td>\n",
              "      <td>Chilena</td>\n",
              "      <td>Mujer</td>\n",
              "      <td>Fonasa A</td>\n",
              "      <td>03/06/2022</td>\n",
              "      <td>...</td>\n",
              "      <td>Postergadora</td>\n",
              "      <td>Nunca</td>\n",
              "      <td>NO</td>\n",
              "      <td>NO</td>\n",
              "      <td>Crea preocupación</td>\n",
              "      <td>Ausente</td>\n",
              "      <td>NO</td>\n",
              "      <td>NO</td>\n",
              "      <td>Padre</td>\n",
              "      <td>Obeso Severo</td>\n",
              "    </tr>\n",
              "    <tr>\n",
              "      <th>1</th>\n",
              "      <td>Centro de Salud Familiar Maipo</td>\n",
              "      <td>22599229-0</td>\n",
              "      <td>Diego Agustin Carrasco Cornejo</td>\n",
              "      <td>06/01/2008</td>\n",
              "      <td>14</td>\n",
              "      <td>Ninguno</td>\n",
              "      <td>Chilena</td>\n",
              "      <td>Hombre</td>\n",
              "      <td>Fonasa C</td>\n",
              "      <td>10/05/2022</td>\n",
              "      <td>...</td>\n",
              "      <td>Postergadora</td>\n",
              "      <td>Nunca</td>\n",
              "      <td>SI</td>\n",
              "      <td>NO</td>\n",
              "      <td>Conforme</td>\n",
              "      <td>Confuso</td>\n",
              "      <td>NO</td>\n",
              "      <td>NO</td>\n",
              "      <td>Madre</td>\n",
              "      <td>Déficit ponderal Bajo Peso</td>\n",
              "    </tr>\n",
              "    <tr>\n",
              "      <th>2</th>\n",
              "      <td>Centro de Salud Familiar Maipo</td>\n",
              "      <td>23300139-2</td>\n",
              "      <td>Martina Carrasco Cornejo</td>\n",
              "      <td>19/04/2010</td>\n",
              "      <td>12</td>\n",
              "      <td>Ninguno</td>\n",
              "      <td>Chilena</td>\n",
              "      <td>Mujer</td>\n",
              "      <td>Fonasa C</td>\n",
              "      <td>10/05/2022</td>\n",
              "      <td>...</td>\n",
              "      <td>Postergadora</td>\n",
              "      <td>Nunca</td>\n",
              "      <td>SI</td>\n",
              "      <td>NO</td>\n",
              "      <td>Conforme</td>\n",
              "      <td>Claro</td>\n",
              "      <td>NO</td>\n",
              "      <td>NO</td>\n",
              "      <td>Madre</td>\n",
              "      <td>Normal o Eutrofia</td>\n",
              "    </tr>\n",
              "    <tr>\n",
              "      <th>3</th>\n",
              "      <td>Centro de Salud Familiar Maipo</td>\n",
              "      <td>21928882-4</td>\n",
              "      <td>Jose Campos Cerda</td>\n",
              "      <td>06/09/2005</td>\n",
              "      <td>16</td>\n",
              "      <td>Ninguno</td>\n",
              "      <td>Chilena</td>\n",
              "      <td>Hombre</td>\n",
              "      <td>Fonasa C</td>\n",
              "      <td>03/05/2022</td>\n",
              "      <td>...</td>\n",
              "      <td>Postergadora</td>\n",
              "      <td>Nunca</td>\n",
              "      <td>SI</td>\n",
              "      <td>NO</td>\n",
              "      <td>Conforme</td>\n",
              "      <td>Claro</td>\n",
              "      <td>NO</td>\n",
              "      <td>NO</td>\n",
              "      <td>Madre</td>\n",
              "      <td>Normal o Eutrofia</td>\n",
              "    </tr>\n",
              "    <tr>\n",
              "      <th>4</th>\n",
              "      <td>Centro de Salud Familiar Maipo</td>\n",
              "      <td>22717004-2</td>\n",
              "      <td>Francisca Catalina Fredes Soto</td>\n",
              "      <td>11/05/2008</td>\n",
              "      <td>13</td>\n",
              "      <td>Ninguno</td>\n",
              "      <td>Chilena</td>\n",
              "      <td>Mujer</td>\n",
              "      <td>Fonasa A</td>\n",
              "      <td>07/05/2022</td>\n",
              "      <td>...</td>\n",
              "      <td>Postergadora</td>\n",
              "      <td>Nunca</td>\n",
              "      <td>SI</td>\n",
              "      <td>NO</td>\n",
              "      <td>Impide relación con los demás</td>\n",
              "      <td>Confuso</td>\n",
              "      <td>NO</td>\n",
              "      <td>NO</td>\n",
              "      <td>Familiar</td>\n",
              "      <td>Obeso</td>\n",
              "    </tr>\n",
              "    <tr>\n",
              "      <th>...</th>\n",
              "      <td>...</td>\n",
              "      <td>...</td>\n",
              "      <td>...</td>\n",
              "      <td>...</td>\n",
              "      <td>...</td>\n",
              "      <td>...</td>\n",
              "      <td>...</td>\n",
              "      <td>...</td>\n",
              "      <td>...</td>\n",
              "      <td>...</td>\n",
              "      <td>...</td>\n",
              "      <td>...</td>\n",
              "      <td>...</td>\n",
              "      <td>...</td>\n",
              "      <td>...</td>\n",
              "      <td>...</td>\n",
              "      <td>...</td>\n",
              "      <td>...</td>\n",
              "      <td>...</td>\n",
              "      <td>...</td>\n",
              "      <td>...</td>\n",
              "    </tr>\n",
              "    <tr>\n",
              "      <th>981</th>\n",
              "      <td>CECOSF Dr. Ramón Galindo</td>\n",
              "      <td>21852992-5</td>\n",
              "      <td>Alondra Paz Medina Ulloa</td>\n",
              "      <td>02/06/2005</td>\n",
              "      <td>18</td>\n",
              "      <td>Ninguno</td>\n",
              "      <td>Chilena</td>\n",
              "      <td>Mujer</td>\n",
              "      <td>Fonasa B</td>\n",
              "      <td>10/04/2024</td>\n",
              "      <td>...</td>\n",
              "      <td>Activa</td>\n",
              "      <td>Siempre</td>\n",
              "      <td>NO</td>\n",
              "      <td>NO</td>\n",
              "      <td>Crea preocupación</td>\n",
              "      <td>Claro</td>\n",
              "      <td>NO</td>\n",
              "      <td>NO</td>\n",
              "      <td>Madre</td>\n",
              "      <td>Normal o Eutrofia</td>\n",
              "    </tr>\n",
              "    <tr>\n",
              "      <th>982</th>\n",
              "      <td>CECOSF Dr. Ramón Galindo</td>\n",
              "      <td>22445098-2</td>\n",
              "      <td>Danae Yeraldi Madrid Acevedo</td>\n",
              "      <td>21/07/2007</td>\n",
              "      <td>16</td>\n",
              "      <td>Ninguno</td>\n",
              "      <td>Chilena</td>\n",
              "      <td>Mujer</td>\n",
              "      <td>Fonasa B</td>\n",
              "      <td>17/05/2024</td>\n",
              "      <td>...</td>\n",
              "      <td>Activa</td>\n",
              "      <td>Siempre</td>\n",
              "      <td>SI</td>\n",
              "      <td>NO</td>\n",
              "      <td>Conforme</td>\n",
              "      <td>Claro</td>\n",
              "      <td>NO</td>\n",
              "      <td>NO</td>\n",
              "      <td>Madre</td>\n",
              "      <td>Normal o Eutrofia</td>\n",
              "    </tr>\n",
              "    <tr>\n",
              "      <th>983</th>\n",
              "      <td>CECOSF Dr. Ramón Galindo</td>\n",
              "      <td>21721458-0</td>\n",
              "      <td>Benjamin Palma Inostroza</td>\n",
              "      <td>25/11/2004</td>\n",
              "      <td>19</td>\n",
              "      <td>Ninguno</td>\n",
              "      <td>Chilena</td>\n",
              "      <td>Hombre</td>\n",
              "      <td>Fonasa B</td>\n",
              "      <td>14/06/2024</td>\n",
              "      <td>...</td>\n",
              "      <td>Activa</td>\n",
              "      <td>Siempre</td>\n",
              "      <td>SI</td>\n",
              "      <td>NO</td>\n",
              "      <td>Conforme</td>\n",
              "      <td>Claro</td>\n",
              "      <td>NO</td>\n",
              "      <td>NO</td>\n",
              "      <td>Madre</td>\n",
              "      <td>Normal o Eutrofia</td>\n",
              "    </tr>\n",
              "    <tr>\n",
              "      <th>984</th>\n",
              "      <td>CECOSF Dr. Ramón Galindo</td>\n",
              "      <td>22108142-0</td>\n",
              "      <td>Antonella Anabalon Morales</td>\n",
              "      <td>19/04/2006</td>\n",
              "      <td>18</td>\n",
              "      <td>Ninguno</td>\n",
              "      <td>Chilena</td>\n",
              "      <td>Mujer</td>\n",
              "      <td>Fonasa B</td>\n",
              "      <td>08/05/2024</td>\n",
              "      <td>...</td>\n",
              "      <td>Activa</td>\n",
              "      <td>Siempre</td>\n",
              "      <td>SI</td>\n",
              "      <td>NO</td>\n",
              "      <td>Conforme</td>\n",
              "      <td>Claro</td>\n",
              "      <td>NO</td>\n",
              "      <td>NO</td>\n",
              "      <td>Familiar</td>\n",
              "      <td>Sobrepeso / Riesgo obesidad</td>\n",
              "    </tr>\n",
              "    <tr>\n",
              "      <th>985</th>\n",
              "      <td>CECOSF Dr. Ramón Galindo</td>\n",
              "      <td>22917072-4</td>\n",
              "      <td>Juan Pablo Cornejo Lara</td>\n",
              "      <td>03/01/2009</td>\n",
              "      <td>15</td>\n",
              "      <td>Ninguno</td>\n",
              "      <td>Chilena</td>\n",
              "      <td>Hombre</td>\n",
              "      <td>Fonasa B</td>\n",
              "      <td>22/05/2024</td>\n",
              "      <td>...</td>\n",
              "      <td>Activa</td>\n",
              "      <td>Nunca</td>\n",
              "      <td>NO</td>\n",
              "      <td>NO</td>\n",
              "      <td>Conforme</td>\n",
              "      <td>Claro</td>\n",
              "      <td>NO</td>\n",
              "      <td>NO</td>\n",
              "      <td>Madre</td>\n",
              "      <td>Sobrepeso / Riesgo obesidad</td>\n",
              "    </tr>\n",
              "  </tbody>\n",
              "</table>\n",
              "<p>986 rows × 45 columns</p>\n",
              "</div>\n",
              "    <div class=\"colab-df-buttons\">\n",
              "\n",
              "  <div class=\"colab-df-container\">\n",
              "    <button class=\"colab-df-convert\" onclick=\"convertToInteractive('df-b018e1dd-0887-4e11-b23e-ec9b85f8a329')\"\n",
              "            title=\"Convert this dataframe to an interactive table.\"\n",
              "            style=\"display:none;\">\n",
              "\n",
              "  <svg xmlns=\"http://www.w3.org/2000/svg\" height=\"24px\" viewBox=\"0 -960 960 960\">\n",
              "    <path d=\"M120-120v-720h720v720H120Zm60-500h600v-160H180v160Zm220 220h160v-160H400v160Zm0 220h160v-160H400v160ZM180-400h160v-160H180v160Zm440 0h160v-160H620v160ZM180-180h160v-160H180v160Zm440 0h160v-160H620v160Z\"/>\n",
              "  </svg>\n",
              "    </button>\n",
              "\n",
              "  <style>\n",
              "    .colab-df-container {\n",
              "      display:flex;\n",
              "      gap: 12px;\n",
              "    }\n",
              "\n",
              "    .colab-df-convert {\n",
              "      background-color: #E8F0FE;\n",
              "      border: none;\n",
              "      border-radius: 50%;\n",
              "      cursor: pointer;\n",
              "      display: none;\n",
              "      fill: #1967D2;\n",
              "      height: 32px;\n",
              "      padding: 0 0 0 0;\n",
              "      width: 32px;\n",
              "    }\n",
              "\n",
              "    .colab-df-convert:hover {\n",
              "      background-color: #E2EBFA;\n",
              "      box-shadow: 0px 1px 2px rgba(60, 64, 67, 0.3), 0px 1px 3px 1px rgba(60, 64, 67, 0.15);\n",
              "      fill: #174EA6;\n",
              "    }\n",
              "\n",
              "    .colab-df-buttons div {\n",
              "      margin-bottom: 4px;\n",
              "    }\n",
              "\n",
              "    [theme=dark] .colab-df-convert {\n",
              "      background-color: #3B4455;\n",
              "      fill: #D2E3FC;\n",
              "    }\n",
              "\n",
              "    [theme=dark] .colab-df-convert:hover {\n",
              "      background-color: #434B5C;\n",
              "      box-shadow: 0px 1px 3px 1px rgba(0, 0, 0, 0.15);\n",
              "      filter: drop-shadow(0px 1px 2px rgba(0, 0, 0, 0.3));\n",
              "      fill: #FFFFFF;\n",
              "    }\n",
              "  </style>\n",
              "\n",
              "    <script>\n",
              "      const buttonEl =\n",
              "        document.querySelector('#df-b018e1dd-0887-4e11-b23e-ec9b85f8a329 button.colab-df-convert');\n",
              "      buttonEl.style.display =\n",
              "        google.colab.kernel.accessAllowed ? 'block' : 'none';\n",
              "\n",
              "      async function convertToInteractive(key) {\n",
              "        const element = document.querySelector('#df-b018e1dd-0887-4e11-b23e-ec9b85f8a329');\n",
              "        const dataTable =\n",
              "          await google.colab.kernel.invokeFunction('convertToInteractive',\n",
              "                                                    [key], {});\n",
              "        if (!dataTable) return;\n",
              "\n",
              "        const docLinkHtml = 'Like what you see? Visit the ' +\n",
              "          '<a target=\"_blank\" href=https://colab.research.google.com/notebooks/data_table.ipynb>data table notebook</a>'\n",
              "          + ' to learn more about interactive tables.';\n",
              "        element.innerHTML = '';\n",
              "        dataTable['output_type'] = 'display_data';\n",
              "        await google.colab.output.renderOutput(dataTable, element);\n",
              "        const docLink = document.createElement('div');\n",
              "        docLink.innerHTML = docLinkHtml;\n",
              "        element.appendChild(docLink);\n",
              "      }\n",
              "    </script>\n",
              "  </div>\n",
              "\n",
              "\n",
              "    <div id=\"df-d0a60d7f-b8ac-447e-8bed-18fa622dfba0\">\n",
              "      <button class=\"colab-df-quickchart\" onclick=\"quickchart('df-d0a60d7f-b8ac-447e-8bed-18fa622dfba0')\"\n",
              "                title=\"Suggest charts\"\n",
              "                style=\"display:none;\">\n",
              "\n",
              "<svg xmlns=\"http://www.w3.org/2000/svg\" height=\"24px\"viewBox=\"0 0 24 24\"\n",
              "     width=\"24px\">\n",
              "    <g>\n",
              "        <path d=\"M19 3H5c-1.1 0-2 .9-2 2v14c0 1.1.9 2 2 2h14c1.1 0 2-.9 2-2V5c0-1.1-.9-2-2-2zM9 17H7v-7h2v7zm4 0h-2V7h2v10zm4 0h-2v-4h2v4z\"/>\n",
              "    </g>\n",
              "</svg>\n",
              "      </button>\n",
              "\n",
              "<style>\n",
              "  .colab-df-quickchart {\n",
              "      --bg-color: #E8F0FE;\n",
              "      --fill-color: #1967D2;\n",
              "      --hover-bg-color: #E2EBFA;\n",
              "      --hover-fill-color: #174EA6;\n",
              "      --disabled-fill-color: #AAA;\n",
              "      --disabled-bg-color: #DDD;\n",
              "  }\n",
              "\n",
              "  [theme=dark] .colab-df-quickchart {\n",
              "      --bg-color: #3B4455;\n",
              "      --fill-color: #D2E3FC;\n",
              "      --hover-bg-color: #434B5C;\n",
              "      --hover-fill-color: #FFFFFF;\n",
              "      --disabled-bg-color: #3B4455;\n",
              "      --disabled-fill-color: #666;\n",
              "  }\n",
              "\n",
              "  .colab-df-quickchart {\n",
              "    background-color: var(--bg-color);\n",
              "    border: none;\n",
              "    border-radius: 50%;\n",
              "    cursor: pointer;\n",
              "    display: none;\n",
              "    fill: var(--fill-color);\n",
              "    height: 32px;\n",
              "    padding: 0;\n",
              "    width: 32px;\n",
              "  }\n",
              "\n",
              "  .colab-df-quickchart:hover {\n",
              "    background-color: var(--hover-bg-color);\n",
              "    box-shadow: 0 1px 2px rgba(60, 64, 67, 0.3), 0 1px 3px 1px rgba(60, 64, 67, 0.15);\n",
              "    fill: var(--button-hover-fill-color);\n",
              "  }\n",
              "\n",
              "  .colab-df-quickchart-complete:disabled,\n",
              "  .colab-df-quickchart-complete:disabled:hover {\n",
              "    background-color: var(--disabled-bg-color);\n",
              "    fill: var(--disabled-fill-color);\n",
              "    box-shadow: none;\n",
              "  }\n",
              "\n",
              "  .colab-df-spinner {\n",
              "    border: 2px solid var(--fill-color);\n",
              "    border-color: transparent;\n",
              "    border-bottom-color: var(--fill-color);\n",
              "    animation:\n",
              "      spin 1s steps(1) infinite;\n",
              "  }\n",
              "\n",
              "  @keyframes spin {\n",
              "    0% {\n",
              "      border-color: transparent;\n",
              "      border-bottom-color: var(--fill-color);\n",
              "      border-left-color: var(--fill-color);\n",
              "    }\n",
              "    20% {\n",
              "      border-color: transparent;\n",
              "      border-left-color: var(--fill-color);\n",
              "      border-top-color: var(--fill-color);\n",
              "    }\n",
              "    30% {\n",
              "      border-color: transparent;\n",
              "      border-left-color: var(--fill-color);\n",
              "      border-top-color: var(--fill-color);\n",
              "      border-right-color: var(--fill-color);\n",
              "    }\n",
              "    40% {\n",
              "      border-color: transparent;\n",
              "      border-right-color: var(--fill-color);\n",
              "      border-top-color: var(--fill-color);\n",
              "    }\n",
              "    60% {\n",
              "      border-color: transparent;\n",
              "      border-right-color: var(--fill-color);\n",
              "    }\n",
              "    80% {\n",
              "      border-color: transparent;\n",
              "      border-right-color: var(--fill-color);\n",
              "      border-bottom-color: var(--fill-color);\n",
              "    }\n",
              "    90% {\n",
              "      border-color: transparent;\n",
              "      border-bottom-color: var(--fill-color);\n",
              "    }\n",
              "  }\n",
              "</style>\n",
              "\n",
              "      <script>\n",
              "        async function quickchart(key) {\n",
              "          const quickchartButtonEl =\n",
              "            document.querySelector('#' + key + ' button');\n",
              "          quickchartButtonEl.disabled = true;  // To prevent multiple clicks.\n",
              "          quickchartButtonEl.classList.add('colab-df-spinner');\n",
              "          try {\n",
              "            const charts = await google.colab.kernel.invokeFunction(\n",
              "                'suggestCharts', [key], {});\n",
              "          } catch (error) {\n",
              "            console.error('Error during call to suggestCharts:', error);\n",
              "          }\n",
              "          quickchartButtonEl.classList.remove('colab-df-spinner');\n",
              "          quickchartButtonEl.classList.add('colab-df-quickchart-complete');\n",
              "        }\n",
              "        (() => {\n",
              "          let quickchartButtonEl =\n",
              "            document.querySelector('#df-d0a60d7f-b8ac-447e-8bed-18fa622dfba0 button');\n",
              "          quickchartButtonEl.style.display =\n",
              "            google.colab.kernel.accessAllowed ? 'block' : 'none';\n",
              "        })();\n",
              "      </script>\n",
              "    </div>\n",
              "\n",
              "  <div id=\"id_bdd662eb-85dd-4273-9c75-bae2a1f8761d\">\n",
              "    <style>\n",
              "      .colab-df-generate {\n",
              "        background-color: #E8F0FE;\n",
              "        border: none;\n",
              "        border-radius: 50%;\n",
              "        cursor: pointer;\n",
              "        display: none;\n",
              "        fill: #1967D2;\n",
              "        height: 32px;\n",
              "        padding: 0 0 0 0;\n",
              "        width: 32px;\n",
              "      }\n",
              "\n",
              "      .colab-df-generate:hover {\n",
              "        background-color: #E2EBFA;\n",
              "        box-shadow: 0px 1px 2px rgba(60, 64, 67, 0.3), 0px 1px 3px 1px rgba(60, 64, 67, 0.15);\n",
              "        fill: #174EA6;\n",
              "      }\n",
              "\n",
              "      [theme=dark] .colab-df-generate {\n",
              "        background-color: #3B4455;\n",
              "        fill: #D2E3FC;\n",
              "      }\n",
              "\n",
              "      [theme=dark] .colab-df-generate:hover {\n",
              "        background-color: #434B5C;\n",
              "        box-shadow: 0px 1px 3px 1px rgba(0, 0, 0, 0.15);\n",
              "        filter: drop-shadow(0px 1px 2px rgba(0, 0, 0, 0.3));\n",
              "        fill: #FFFFFF;\n",
              "      }\n",
              "    </style>\n",
              "    <button class=\"colab-df-generate\" onclick=\"generateWithVariable('df_new')\"\n",
              "            title=\"Generate code using this dataframe.\"\n",
              "            style=\"display:none;\">\n",
              "\n",
              "  <svg xmlns=\"http://www.w3.org/2000/svg\" height=\"24px\"viewBox=\"0 0 24 24\"\n",
              "       width=\"24px\">\n",
              "    <path d=\"M7,19H8.4L18.45,9,17,7.55,7,17.6ZM5,21V16.75L18.45,3.32a2,2,0,0,1,2.83,0l1.4,1.43a1.91,1.91,0,0,1,.58,1.4,1.91,1.91,0,0,1-.58,1.4L9.25,21ZM18.45,9,17,7.55Zm-12,3A5.31,5.31,0,0,0,4.9,8.1,5.31,5.31,0,0,0,1,6.5,5.31,5.31,0,0,0,4.9,4.9,5.31,5.31,0,0,0,6.5,1,5.31,5.31,0,0,0,8.1,4.9,5.31,5.31,0,0,0,12,6.5,5.46,5.46,0,0,0,6.5,12Z\"/>\n",
              "  </svg>\n",
              "    </button>\n",
              "    <script>\n",
              "      (() => {\n",
              "      const buttonEl =\n",
              "        document.querySelector('#id_bdd662eb-85dd-4273-9c75-bae2a1f8761d button.colab-df-generate');\n",
              "      buttonEl.style.display =\n",
              "        google.colab.kernel.accessAllowed ? 'block' : 'none';\n",
              "\n",
              "      buttonEl.onclick = () => {\n",
              "        google.colab.notebook.generateWithVariable('df_new');\n",
              "      }\n",
              "      })();\n",
              "    </script>\n",
              "  </div>\n",
              "\n",
              "    </div>\n",
              "  </div>\n"
            ],
            "application/vnd.google.colaboratory.intrinsic+json": {
              "type": "dataframe",
              "variable_name": "df_new"
            }
          },
          "metadata": {},
          "execution_count": 146
        }
      ]
    },
    {
      "cell_type": "markdown",
      "source": [
        "Eliminación de datos duplicados"
      ],
      "metadata": {
        "id": "atvSqi8suO_4"
      }
    },
    {
      "cell_type": "code",
      "source": [
        "df.shape"
      ],
      "metadata": {
        "id": "mzT8dxEWuPg7",
        "colab": {
          "base_uri": "https://localhost:8080/"
        },
        "outputId": "3c8328a4-23a8-4a8e-d531-634431589ea7"
      },
      "execution_count": 147,
      "outputs": [
        {
          "output_type": "execute_result",
          "data": {
            "text/plain": [
              "(986, 45)"
            ]
          },
          "metadata": {},
          "execution_count": 147
        }
      ]
    },
    {
      "cell_type": "code",
      "source": [
        "df = df.drop_duplicates()"
      ],
      "metadata": {
        "id": "JYpn7HB1uUEJ"
      },
      "execution_count": 148,
      "outputs": []
    },
    {
      "cell_type": "code",
      "source": [
        "df.shape"
      ],
      "metadata": {
        "id": "48m6w9fWNMVy",
        "colab": {
          "base_uri": "https://localhost:8080/"
        },
        "outputId": "4e27bc48-bdb7-4d2c-a860-61df70eb5888"
      },
      "execution_count": 149,
      "outputs": [
        {
          "output_type": "execute_result",
          "data": {
            "text/plain": [
              "(986, 45)"
            ]
          },
          "metadata": {},
          "execution_count": 149
        }
      ]
    },
    {
      "cell_type": "markdown",
      "source": [
        "Datos faltantes o valores incoherentes:"
      ],
      "metadata": {
        "id": "f2xJxSNDk0CB"
      }
    },
    {
      "cell_type": "code",
      "source": [
        "print(\"\\nValores faltantes (NaN) por columna:\")\n",
        "print(df.isnull().sum())"
      ],
      "metadata": {
        "id": "GOLh5QBWk2J9",
        "colab": {
          "base_uri": "https://localhost:8080/"
        },
        "outputId": "ef56f5bc-dc74-4c03-fcf0-38fc688be8c3"
      },
      "execution_count": 150,
      "outputs": [
        {
          "output_type": "stream",
          "name": "stdout",
          "text": [
            "\n",
            "Valores faltantes (NaN) por columna:\n",
            "ESTABLECIMIENTO DE SALUD                              0\n",
            "RUT                                                   0\n",
            "NOMBRE ADOLESCENTE                                    0\n",
            "FECHA DE NACIMIENTO                                   0\n",
            "EDAD                                                  0\n",
            "PUEBLO ORIGINARIO                                     0\n",
            "NACIONALIDAD                                          0\n",
            "SEXO                                                  0\n",
            "PREVISION DE SALUD                                    0\n",
            "FECHA DE ATENCION                                     0\n",
            "PROFESIONAL QUE APLICA INSTRUMENTO                    0\n",
            " ACOMPAÑADO POR ALGUIEN                               0\n",
            "ANTECEDENTES PERINATALES NORMALES                     0\n",
            "ENFERMEDADES IMPORTANTES                              0\n",
            "TIENE DISCAPACIDAD                                    0\n",
            "PROBLEMAS DE SALUD MENTAL                             0\n",
            "SUFRE VIOLENCIA                                       0\n",
            "PROBLEMAS JUDICIALES                                  0\n",
            "CONSUMO DE ALCOHOL Y OTRAS  DROGAS                    0\n",
            "MADRE Y/O PADRE ADOLESCENTE                           0\n",
            "NIVEL EDUCACIONAL DE MADRE O SUSTITUTA                0\n",
            "NIVEL EDUCACIONAL DE PADRE O SUSTITUTO                0\n",
            "RELACION CON SU FAMILIA                               0\n",
            "COMPARTE CAMA CON ALGUIEN                             0\n",
            "CONDICIONES SANITARIAS DE DOMICILIO                   0\n",
            "HACINAMIENTO EN DOMICILIO                             0\n",
            "NIVEL DE ESTUDIO                                      0\n",
            "PROBLEMA EN INSTITUCIÓN EDUCATIVA                     0\n",
            "VIOLENCIA ESCOLAR Y/O BULLYNG                         0\n",
            "DESERCIÓN O EXCLUSIÓN ESCOLAR                         0\n",
            "TRABAJA                                               0\n",
            "TIENE AMIGOS                                          0\n",
            "TIENE EL SUEÑO NORMAL                                 0\n",
            "CONSUME TABACO                                        0\n",
            "ORIENTACIÓN SEXUAL                                    0\n",
            "INTENCIÓN O CONDUCTA SEXUAL                           0\n",
            "USO MAC ACTUAL                                        0\n",
            "EL ADOLESCENTE HA RECIBIDO CONSEJERÍA SOBRE MAC       0\n",
            "VIOLENCIA SEXUAL                                      0\n",
            "PERCEPCIÓN DE IMAGEN CORPORAL                         0\n",
            "PROYECCIÓN DE VIDA                                    0\n",
            "HA EXISTIDO IDEACIÓN SUICIDA EN EL ÚLTIMO MES         0\n",
            "HA EXISTIDO INTENTO SUICIDA EN LOS ÚLTIMOS 3 MESES    0\n",
            "REFERENTE ADULTO                                      0\n",
            "DIAGNÓSTICO NUTRICIONAL                               0\n",
            "dtype: int64\n"
          ]
        }
      ]
    },
    {
      "cell_type": "markdown",
      "source": [
        "Imputación de datos"
      ],
      "metadata": {
        "id": "XcEg8YaquFp6"
      }
    },
    {
      "cell_type": "code",
      "source": [
        "df.fillna(0)\n",
        "print(df.isnull().sum())"
      ],
      "metadata": {
        "id": "8nxfw4yluGU6",
        "colab": {
          "base_uri": "https://localhost:8080/"
        },
        "outputId": "e93aeb7e-e9da-4db9-deb2-95b519e51421"
      },
      "execution_count": 151,
      "outputs": [
        {
          "output_type": "stream",
          "name": "stdout",
          "text": [
            "ESTABLECIMIENTO DE SALUD                              0\n",
            "RUT                                                   0\n",
            "NOMBRE ADOLESCENTE                                    0\n",
            "FECHA DE NACIMIENTO                                   0\n",
            "EDAD                                                  0\n",
            "PUEBLO ORIGINARIO                                     0\n",
            "NACIONALIDAD                                          0\n",
            "SEXO                                                  0\n",
            "PREVISION DE SALUD                                    0\n",
            "FECHA DE ATENCION                                     0\n",
            "PROFESIONAL QUE APLICA INSTRUMENTO                    0\n",
            " ACOMPAÑADO POR ALGUIEN                               0\n",
            "ANTECEDENTES PERINATALES NORMALES                     0\n",
            "ENFERMEDADES IMPORTANTES                              0\n",
            "TIENE DISCAPACIDAD                                    0\n",
            "PROBLEMAS DE SALUD MENTAL                             0\n",
            "SUFRE VIOLENCIA                                       0\n",
            "PROBLEMAS JUDICIALES                                  0\n",
            "CONSUMO DE ALCOHOL Y OTRAS  DROGAS                    0\n",
            "MADRE Y/O PADRE ADOLESCENTE                           0\n",
            "NIVEL EDUCACIONAL DE MADRE O SUSTITUTA                0\n",
            "NIVEL EDUCACIONAL DE PADRE O SUSTITUTO                0\n",
            "RELACION CON SU FAMILIA                               0\n",
            "COMPARTE CAMA CON ALGUIEN                             0\n",
            "CONDICIONES SANITARIAS DE DOMICILIO                   0\n",
            "HACINAMIENTO EN DOMICILIO                             0\n",
            "NIVEL DE ESTUDIO                                      0\n",
            "PROBLEMA EN INSTITUCIÓN EDUCATIVA                     0\n",
            "VIOLENCIA ESCOLAR Y/O BULLYNG                         0\n",
            "DESERCIÓN O EXCLUSIÓN ESCOLAR                         0\n",
            "TRABAJA                                               0\n",
            "TIENE AMIGOS                                          0\n",
            "TIENE EL SUEÑO NORMAL                                 0\n",
            "CONSUME TABACO                                        0\n",
            "ORIENTACIÓN SEXUAL                                    0\n",
            "INTENCIÓN O CONDUCTA SEXUAL                           0\n",
            "USO MAC ACTUAL                                        0\n",
            "EL ADOLESCENTE HA RECIBIDO CONSEJERÍA SOBRE MAC       0\n",
            "VIOLENCIA SEXUAL                                      0\n",
            "PERCEPCIÓN DE IMAGEN CORPORAL                         0\n",
            "PROYECCIÓN DE VIDA                                    0\n",
            "HA EXISTIDO IDEACIÓN SUICIDA EN EL ÚLTIMO MES         0\n",
            "HA EXISTIDO INTENTO SUICIDA EN LOS ÚLTIMOS 3 MESES    0\n",
            "REFERENTE ADULTO                                      0\n",
            "DIAGNÓSTICO NUTRICIONAL                               0\n",
            "dtype: int64\n"
          ]
        }
      ]
    },
    {
      "cell_type": "markdown",
      "source": [
        "Eliminación de columnas"
      ],
      "metadata": {
        "id": "OCQawIEBt_-5"
      }
    },
    {
      "cell_type": "code",
      "source": [
        "df= df.drop(['NOMBRE ADOLESCENTE', 'FECHA DE NACIMIENTO', 'FECHA DE ATENCION', 'PREVISION DE SALUD', 'TIENE EL SUEÑO NORMAL'], axis=1, errors='ignore')\n",
        "df.head()"
      ],
      "metadata": {
        "id": "T3R_t3V6ldzw",
        "colab": {
          "base_uri": "https://localhost:8080/",
          "height": 481
        },
        "outputId": "946bf4f3-16ea-4678-9bad-b200db498917"
      },
      "execution_count": 152,
      "outputs": [
        {
          "output_type": "execute_result",
          "data": {
            "text/plain": [
              "           ESTABLECIMIENTO DE SALUD           RUT  EDAD PUEBLO ORIGINARIO  \\\n",
              "0   Centro de Salud Familiar Maipo    22977057-8     13          Ninguno    \n",
              "1   Centro de Salud Familiar Maipo    22599229-0     14          Ninguno    \n",
              "2   Centro de Salud Familiar Maipo    23300139-2     12          Ninguno    \n",
              "3   Centro de Salud Familiar Maipo    21928882-4     16          Ninguno    \n",
              "4   Centro de Salud Familiar Maipo    22717004-2     13          Ninguno    \n",
              "\n",
              "  NACIONALIDAD      SEXO PROFESIONAL QUE APLICA INSTRUMENTO  \\\n",
              "0     Chilena     Mujer                       Enfermero(a)    \n",
              "1     Chilena    Hombre                          Matron(a)    \n",
              "2     Chilena     Mujer                          Matron(a)    \n",
              "3     Chilena    Hombre                          Matron(a)    \n",
              "4     Chilena     Mujer                          Matron(a)    \n",
              "\n",
              "   ACOMPAÑADO POR ALGUIEN ANTECEDENTES PERINATALES NORMALES  \\\n",
              "0                  Padre                                Si    \n",
              "1                  Madre                                Si    \n",
              "2                  Madre                                Si    \n",
              "3                  Madre                                Si    \n",
              "4                   Solo                                Si    \n",
              "\n",
              "  ENFERMEDADES IMPORTANTES  ... INTENCIÓN O CONDUCTA SEXUAL USO MAC ACTUAL  \\\n",
              "0                      No   ...               Postergadora          Nunca    \n",
              "1                      No   ...               Postergadora          Nunca    \n",
              "2                      No   ...               Postergadora          Nunca    \n",
              "3                      No   ...               Postergadora          Nunca    \n",
              "4                      No   ...               Postergadora          Nunca    \n",
              "\n",
              "  EL ADOLESCENTE HA RECIBIDO CONSEJERÍA SOBRE MAC VIOLENCIA SEXUAL  \\\n",
              "0                                             NO               NO    \n",
              "1                                             SI               NO    \n",
              "2                                             SI               NO    \n",
              "3                                             SI               NO    \n",
              "4                                             SI               NO    \n",
              "\n",
              "     PERCEPCIÓN DE IMAGEN CORPORAL PROYECCIÓN DE VIDA  \\\n",
              "0               Crea preocupación            Ausente    \n",
              "1                        Conforme            Confuso    \n",
              "2                        Conforme              Claro    \n",
              "3                        Conforme              Claro    \n",
              "4   Impide relación con los demás            Confuso    \n",
              "\n",
              "  HA EXISTIDO IDEACIÓN SUICIDA EN EL ÚLTIMO MES  \\\n",
              "0                                           NO    \n",
              "1                                           NO    \n",
              "2                                           NO    \n",
              "3                                           NO    \n",
              "4                                           NO    \n",
              "\n",
              "  HA EXISTIDO INTENTO SUICIDA EN LOS ÚLTIMOS 3 MESES REFERENTE ADULTO  \\\n",
              "0                                                NO            Padre    \n",
              "1                                                NO            Madre    \n",
              "2                                                NO            Madre    \n",
              "3                                                NO            Madre    \n",
              "4                                                NO         Familiar    \n",
              "\n",
              "        DIAGNÓSTICO NUTRICIONAL  \n",
              "0                 Obeso Severo   \n",
              "1   Déficit ponderal Bajo Peso   \n",
              "2            Normal o Eutrofia   \n",
              "3            Normal o Eutrofia   \n",
              "4                        Obeso   \n",
              "\n",
              "[5 rows x 40 columns]"
            ],
            "text/html": [
              "\n",
              "  <div id=\"df-1b9cb4e6-8854-41a0-80e6-333d66a33d6a\" class=\"colab-df-container\">\n",
              "    <div>\n",
              "<style scoped>\n",
              "    .dataframe tbody tr th:only-of-type {\n",
              "        vertical-align: middle;\n",
              "    }\n",
              "\n",
              "    .dataframe tbody tr th {\n",
              "        vertical-align: top;\n",
              "    }\n",
              "\n",
              "    .dataframe thead th {\n",
              "        text-align: right;\n",
              "    }\n",
              "</style>\n",
              "<table border=\"1\" class=\"dataframe\">\n",
              "  <thead>\n",
              "    <tr style=\"text-align: right;\">\n",
              "      <th></th>\n",
              "      <th>ESTABLECIMIENTO DE SALUD</th>\n",
              "      <th>RUT</th>\n",
              "      <th>EDAD</th>\n",
              "      <th>PUEBLO ORIGINARIO</th>\n",
              "      <th>NACIONALIDAD</th>\n",
              "      <th>SEXO</th>\n",
              "      <th>PROFESIONAL QUE APLICA INSTRUMENTO</th>\n",
              "      <th>ACOMPAÑADO POR ALGUIEN</th>\n",
              "      <th>ANTECEDENTES PERINATALES NORMALES</th>\n",
              "      <th>ENFERMEDADES IMPORTANTES</th>\n",
              "      <th>...</th>\n",
              "      <th>INTENCIÓN O CONDUCTA SEXUAL</th>\n",
              "      <th>USO MAC ACTUAL</th>\n",
              "      <th>EL ADOLESCENTE HA RECIBIDO CONSEJERÍA SOBRE MAC</th>\n",
              "      <th>VIOLENCIA SEXUAL</th>\n",
              "      <th>PERCEPCIÓN DE IMAGEN CORPORAL</th>\n",
              "      <th>PROYECCIÓN DE VIDA</th>\n",
              "      <th>HA EXISTIDO IDEACIÓN SUICIDA EN EL ÚLTIMO MES</th>\n",
              "      <th>HA EXISTIDO INTENTO SUICIDA EN LOS ÚLTIMOS 3 MESES</th>\n",
              "      <th>REFERENTE ADULTO</th>\n",
              "      <th>DIAGNÓSTICO NUTRICIONAL</th>\n",
              "    </tr>\n",
              "  </thead>\n",
              "  <tbody>\n",
              "    <tr>\n",
              "      <th>0</th>\n",
              "      <td>Centro de Salud Familiar Maipo</td>\n",
              "      <td>22977057-8</td>\n",
              "      <td>13</td>\n",
              "      <td>Ninguno</td>\n",
              "      <td>Chilena</td>\n",
              "      <td>Mujer</td>\n",
              "      <td>Enfermero(a)</td>\n",
              "      <td>Padre</td>\n",
              "      <td>Si</td>\n",
              "      <td>No</td>\n",
              "      <td>...</td>\n",
              "      <td>Postergadora</td>\n",
              "      <td>Nunca</td>\n",
              "      <td>NO</td>\n",
              "      <td>NO</td>\n",
              "      <td>Crea preocupación</td>\n",
              "      <td>Ausente</td>\n",
              "      <td>NO</td>\n",
              "      <td>NO</td>\n",
              "      <td>Padre</td>\n",
              "      <td>Obeso Severo</td>\n",
              "    </tr>\n",
              "    <tr>\n",
              "      <th>1</th>\n",
              "      <td>Centro de Salud Familiar Maipo</td>\n",
              "      <td>22599229-0</td>\n",
              "      <td>14</td>\n",
              "      <td>Ninguno</td>\n",
              "      <td>Chilena</td>\n",
              "      <td>Hombre</td>\n",
              "      <td>Matron(a)</td>\n",
              "      <td>Madre</td>\n",
              "      <td>Si</td>\n",
              "      <td>No</td>\n",
              "      <td>...</td>\n",
              "      <td>Postergadora</td>\n",
              "      <td>Nunca</td>\n",
              "      <td>SI</td>\n",
              "      <td>NO</td>\n",
              "      <td>Conforme</td>\n",
              "      <td>Confuso</td>\n",
              "      <td>NO</td>\n",
              "      <td>NO</td>\n",
              "      <td>Madre</td>\n",
              "      <td>Déficit ponderal Bajo Peso</td>\n",
              "    </tr>\n",
              "    <tr>\n",
              "      <th>2</th>\n",
              "      <td>Centro de Salud Familiar Maipo</td>\n",
              "      <td>23300139-2</td>\n",
              "      <td>12</td>\n",
              "      <td>Ninguno</td>\n",
              "      <td>Chilena</td>\n",
              "      <td>Mujer</td>\n",
              "      <td>Matron(a)</td>\n",
              "      <td>Madre</td>\n",
              "      <td>Si</td>\n",
              "      <td>No</td>\n",
              "      <td>...</td>\n",
              "      <td>Postergadora</td>\n",
              "      <td>Nunca</td>\n",
              "      <td>SI</td>\n",
              "      <td>NO</td>\n",
              "      <td>Conforme</td>\n",
              "      <td>Claro</td>\n",
              "      <td>NO</td>\n",
              "      <td>NO</td>\n",
              "      <td>Madre</td>\n",
              "      <td>Normal o Eutrofia</td>\n",
              "    </tr>\n",
              "    <tr>\n",
              "      <th>3</th>\n",
              "      <td>Centro de Salud Familiar Maipo</td>\n",
              "      <td>21928882-4</td>\n",
              "      <td>16</td>\n",
              "      <td>Ninguno</td>\n",
              "      <td>Chilena</td>\n",
              "      <td>Hombre</td>\n",
              "      <td>Matron(a)</td>\n",
              "      <td>Madre</td>\n",
              "      <td>Si</td>\n",
              "      <td>No</td>\n",
              "      <td>...</td>\n",
              "      <td>Postergadora</td>\n",
              "      <td>Nunca</td>\n",
              "      <td>SI</td>\n",
              "      <td>NO</td>\n",
              "      <td>Conforme</td>\n",
              "      <td>Claro</td>\n",
              "      <td>NO</td>\n",
              "      <td>NO</td>\n",
              "      <td>Madre</td>\n",
              "      <td>Normal o Eutrofia</td>\n",
              "    </tr>\n",
              "    <tr>\n",
              "      <th>4</th>\n",
              "      <td>Centro de Salud Familiar Maipo</td>\n",
              "      <td>22717004-2</td>\n",
              "      <td>13</td>\n",
              "      <td>Ninguno</td>\n",
              "      <td>Chilena</td>\n",
              "      <td>Mujer</td>\n",
              "      <td>Matron(a)</td>\n",
              "      <td>Solo</td>\n",
              "      <td>Si</td>\n",
              "      <td>No</td>\n",
              "      <td>...</td>\n",
              "      <td>Postergadora</td>\n",
              "      <td>Nunca</td>\n",
              "      <td>SI</td>\n",
              "      <td>NO</td>\n",
              "      <td>Impide relación con los demás</td>\n",
              "      <td>Confuso</td>\n",
              "      <td>NO</td>\n",
              "      <td>NO</td>\n",
              "      <td>Familiar</td>\n",
              "      <td>Obeso</td>\n",
              "    </tr>\n",
              "  </tbody>\n",
              "</table>\n",
              "<p>5 rows × 40 columns</p>\n",
              "</div>\n",
              "    <div class=\"colab-df-buttons\">\n",
              "\n",
              "  <div class=\"colab-df-container\">\n",
              "    <button class=\"colab-df-convert\" onclick=\"convertToInteractive('df-1b9cb4e6-8854-41a0-80e6-333d66a33d6a')\"\n",
              "            title=\"Convert this dataframe to an interactive table.\"\n",
              "            style=\"display:none;\">\n",
              "\n",
              "  <svg xmlns=\"http://www.w3.org/2000/svg\" height=\"24px\" viewBox=\"0 -960 960 960\">\n",
              "    <path d=\"M120-120v-720h720v720H120Zm60-500h600v-160H180v160Zm220 220h160v-160H400v160Zm0 220h160v-160H400v160ZM180-400h160v-160H180v160Zm440 0h160v-160H620v160ZM180-180h160v-160H180v160Zm440 0h160v-160H620v160Z\"/>\n",
              "  </svg>\n",
              "    </button>\n",
              "\n",
              "  <style>\n",
              "    .colab-df-container {\n",
              "      display:flex;\n",
              "      gap: 12px;\n",
              "    }\n",
              "\n",
              "    .colab-df-convert {\n",
              "      background-color: #E8F0FE;\n",
              "      border: none;\n",
              "      border-radius: 50%;\n",
              "      cursor: pointer;\n",
              "      display: none;\n",
              "      fill: #1967D2;\n",
              "      height: 32px;\n",
              "      padding: 0 0 0 0;\n",
              "      width: 32px;\n",
              "    }\n",
              "\n",
              "    .colab-df-convert:hover {\n",
              "      background-color: #E2EBFA;\n",
              "      box-shadow: 0px 1px 2px rgba(60, 64, 67, 0.3), 0px 1px 3px 1px rgba(60, 64, 67, 0.15);\n",
              "      fill: #174EA6;\n",
              "    }\n",
              "\n",
              "    .colab-df-buttons div {\n",
              "      margin-bottom: 4px;\n",
              "    }\n",
              "\n",
              "    [theme=dark] .colab-df-convert {\n",
              "      background-color: #3B4455;\n",
              "      fill: #D2E3FC;\n",
              "    }\n",
              "\n",
              "    [theme=dark] .colab-df-convert:hover {\n",
              "      background-color: #434B5C;\n",
              "      box-shadow: 0px 1px 3px 1px rgba(0, 0, 0, 0.15);\n",
              "      filter: drop-shadow(0px 1px 2px rgba(0, 0, 0, 0.3));\n",
              "      fill: #FFFFFF;\n",
              "    }\n",
              "  </style>\n",
              "\n",
              "    <script>\n",
              "      const buttonEl =\n",
              "        document.querySelector('#df-1b9cb4e6-8854-41a0-80e6-333d66a33d6a button.colab-df-convert');\n",
              "      buttonEl.style.display =\n",
              "        google.colab.kernel.accessAllowed ? 'block' : 'none';\n",
              "\n",
              "      async function convertToInteractive(key) {\n",
              "        const element = document.querySelector('#df-1b9cb4e6-8854-41a0-80e6-333d66a33d6a');\n",
              "        const dataTable =\n",
              "          await google.colab.kernel.invokeFunction('convertToInteractive',\n",
              "                                                    [key], {});\n",
              "        if (!dataTable) return;\n",
              "\n",
              "        const docLinkHtml = 'Like what you see? Visit the ' +\n",
              "          '<a target=\"_blank\" href=https://colab.research.google.com/notebooks/data_table.ipynb>data table notebook</a>'\n",
              "          + ' to learn more about interactive tables.';\n",
              "        element.innerHTML = '';\n",
              "        dataTable['output_type'] = 'display_data';\n",
              "        await google.colab.output.renderOutput(dataTable, element);\n",
              "        const docLink = document.createElement('div');\n",
              "        docLink.innerHTML = docLinkHtml;\n",
              "        element.appendChild(docLink);\n",
              "      }\n",
              "    </script>\n",
              "  </div>\n",
              "\n",
              "\n",
              "    <div id=\"df-c43e7531-834e-44f3-8ee1-70d697fe98ac\">\n",
              "      <button class=\"colab-df-quickchart\" onclick=\"quickchart('df-c43e7531-834e-44f3-8ee1-70d697fe98ac')\"\n",
              "                title=\"Suggest charts\"\n",
              "                style=\"display:none;\">\n",
              "\n",
              "<svg xmlns=\"http://www.w3.org/2000/svg\" height=\"24px\"viewBox=\"0 0 24 24\"\n",
              "     width=\"24px\">\n",
              "    <g>\n",
              "        <path d=\"M19 3H5c-1.1 0-2 .9-2 2v14c0 1.1.9 2 2 2h14c1.1 0 2-.9 2-2V5c0-1.1-.9-2-2-2zM9 17H7v-7h2v7zm4 0h-2V7h2v10zm4 0h-2v-4h2v4z\"/>\n",
              "    </g>\n",
              "</svg>\n",
              "      </button>\n",
              "\n",
              "<style>\n",
              "  .colab-df-quickchart {\n",
              "      --bg-color: #E8F0FE;\n",
              "      --fill-color: #1967D2;\n",
              "      --hover-bg-color: #E2EBFA;\n",
              "      --hover-fill-color: #174EA6;\n",
              "      --disabled-fill-color: #AAA;\n",
              "      --disabled-bg-color: #DDD;\n",
              "  }\n",
              "\n",
              "  [theme=dark] .colab-df-quickchart {\n",
              "      --bg-color: #3B4455;\n",
              "      --fill-color: #D2E3FC;\n",
              "      --hover-bg-color: #434B5C;\n",
              "      --hover-fill-color: #FFFFFF;\n",
              "      --disabled-bg-color: #3B4455;\n",
              "      --disabled-fill-color: #666;\n",
              "  }\n",
              "\n",
              "  .colab-df-quickchart {\n",
              "    background-color: var(--bg-color);\n",
              "    border: none;\n",
              "    border-radius: 50%;\n",
              "    cursor: pointer;\n",
              "    display: none;\n",
              "    fill: var(--fill-color);\n",
              "    height: 32px;\n",
              "    padding: 0;\n",
              "    width: 32px;\n",
              "  }\n",
              "\n",
              "  .colab-df-quickchart:hover {\n",
              "    background-color: var(--hover-bg-color);\n",
              "    box-shadow: 0 1px 2px rgba(60, 64, 67, 0.3), 0 1px 3px 1px rgba(60, 64, 67, 0.15);\n",
              "    fill: var(--button-hover-fill-color);\n",
              "  }\n",
              "\n",
              "  .colab-df-quickchart-complete:disabled,\n",
              "  .colab-df-quickchart-complete:disabled:hover {\n",
              "    background-color: var(--disabled-bg-color);\n",
              "    fill: var(--disabled-fill-color);\n",
              "    box-shadow: none;\n",
              "  }\n",
              "\n",
              "  .colab-df-spinner {\n",
              "    border: 2px solid var(--fill-color);\n",
              "    border-color: transparent;\n",
              "    border-bottom-color: var(--fill-color);\n",
              "    animation:\n",
              "      spin 1s steps(1) infinite;\n",
              "  }\n",
              "\n",
              "  @keyframes spin {\n",
              "    0% {\n",
              "      border-color: transparent;\n",
              "      border-bottom-color: var(--fill-color);\n",
              "      border-left-color: var(--fill-color);\n",
              "    }\n",
              "    20% {\n",
              "      border-color: transparent;\n",
              "      border-left-color: var(--fill-color);\n",
              "      border-top-color: var(--fill-color);\n",
              "    }\n",
              "    30% {\n",
              "      border-color: transparent;\n",
              "      border-left-color: var(--fill-color);\n",
              "      border-top-color: var(--fill-color);\n",
              "      border-right-color: var(--fill-color);\n",
              "    }\n",
              "    40% {\n",
              "      border-color: transparent;\n",
              "      border-right-color: var(--fill-color);\n",
              "      border-top-color: var(--fill-color);\n",
              "    }\n",
              "    60% {\n",
              "      border-color: transparent;\n",
              "      border-right-color: var(--fill-color);\n",
              "    }\n",
              "    80% {\n",
              "      border-color: transparent;\n",
              "      border-right-color: var(--fill-color);\n",
              "      border-bottom-color: var(--fill-color);\n",
              "    }\n",
              "    90% {\n",
              "      border-color: transparent;\n",
              "      border-bottom-color: var(--fill-color);\n",
              "    }\n",
              "  }\n",
              "</style>\n",
              "\n",
              "      <script>\n",
              "        async function quickchart(key) {\n",
              "          const quickchartButtonEl =\n",
              "            document.querySelector('#' + key + ' button');\n",
              "          quickchartButtonEl.disabled = true;  // To prevent multiple clicks.\n",
              "          quickchartButtonEl.classList.add('colab-df-spinner');\n",
              "          try {\n",
              "            const charts = await google.colab.kernel.invokeFunction(\n",
              "                'suggestCharts', [key], {});\n",
              "          } catch (error) {\n",
              "            console.error('Error during call to suggestCharts:', error);\n",
              "          }\n",
              "          quickchartButtonEl.classList.remove('colab-df-spinner');\n",
              "          quickchartButtonEl.classList.add('colab-df-quickchart-complete');\n",
              "        }\n",
              "        (() => {\n",
              "          let quickchartButtonEl =\n",
              "            document.querySelector('#df-c43e7531-834e-44f3-8ee1-70d697fe98ac button');\n",
              "          quickchartButtonEl.style.display =\n",
              "            google.colab.kernel.accessAllowed ? 'block' : 'none';\n",
              "        })();\n",
              "      </script>\n",
              "    </div>\n",
              "\n",
              "    </div>\n",
              "  </div>\n"
            ],
            "application/vnd.google.colaboratory.intrinsic+json": {
              "type": "dataframe",
              "variable_name": "df"
            }
          },
          "metadata": {},
          "execution_count": 152
        }
      ]
    },
    {
      "cell_type": "code",
      "source": [
        "print (\"Columnas totales:\")\n",
        "df.shape"
      ],
      "metadata": {
        "id": "es0a9mu5uXBP",
        "colab": {
          "base_uri": "https://localhost:8080/"
        },
        "outputId": "2e02463a-ce30-4175-8605-ce122be348c7"
      },
      "execution_count": 153,
      "outputs": [
        {
          "output_type": "stream",
          "name": "stdout",
          "text": [
            "Columnas totales:\n"
          ]
        },
        {
          "output_type": "execute_result",
          "data": {
            "text/plain": [
              "(986, 40)"
            ]
          },
          "metadata": {},
          "execution_count": 153
        }
      ]
    },
    {
      "cell_type": "markdown",
      "source": [
        "Valores únicos de las columnas categóricas"
      ],
      "metadata": {
        "id": "p4a0MvgfNxaW"
      }
    },
    {
      "cell_type": "code",
      "source": [
        "print(\"\\nValores únicos en columnas categóricas:\")\n",
        "for col in ['NACIONALIDAD', 'SEXO', ' ACOMPAÑADO POR ALGUIEN', 'ANTECEDENTES PERINATALES NORMALES', 'ENFERMEDADES IMPORTANTES', 'TIENE DISCAPACIDAD', 'PROBLEMAS DE SALUD MENTAL', 'SUFRE VIOLENCIA', 'PROBLEMAS JUDICIALES', 'CONSUMO DE ALCOHOL Y OTRAS  DROGAS', 'MADRE Y/O PADRE ADOLESCENTE', 'NIVEL EDUCACIONAL DE MADRE O SUSTITUTA', 'NIVEL EDUCACIONAL DE PADRE O SUSTITUTO', 'RELACION CON SU FAMILIA','HACINAMIENTO EN DOMICILIO', 'NIVEL DE ESTUDIO', 'VIOLENCIA ESCOLAR Y/O BULLYNG', 'DESERCIÓN O EXCLUSIÓN ESCOLAR', 'TRABAJA', 'TIENE AMIGOS', 'CONSUME TABACO', 'ORIENTACIÓN SEXUAL', 'INTENCIÓN O CONDUCTA SEXUAL', 'USO MAC ACTUAL', 'EL ADOLESCENTE HA RECIBIDO CONSEJERÍA SOBRE MAC', 'VIOLENCIA SEXUAL', 'PERCEPCIÓN DE IMAGEN CORPORAL', 'PROYECCIÓN DE VIDA', 'HA EXISTIDO IDEACIÓN SUICIDA EN EL ÚLTIMO MES', 'HA EXISTIDO INTENTO SUICIDA EN LOS ÚLTIMOS 3 MESES', 'REFERENTE ADULTO', 'DIAGNÓSTICO NUTRICIONAL']:\n",
        "    print(f\"\\n{col}: {df[col].unique()}\")"
      ],
      "metadata": {
        "id": "ONDqYx9ho6eE",
        "colab": {
          "base_uri": "https://localhost:8080/"
        },
        "outputId": "f2e2d8f3-5e08-45fd-b77b-6698e1d9ae3a"
      },
      "execution_count": 154,
      "outputs": [
        {
          "output_type": "stream",
          "name": "stdout",
          "text": [
            "\n",
            "Valores únicos en columnas categóricas:\n",
            "\n",
            "NACIONALIDAD: [' Chilena ' ' Ecuador ' ' Venezuela ' ' Colombia ' ' Haití '\n",
            " ' Argentina ' ' Bolivia ']\n",
            "\n",
            "SEXO: [' Mujer ' ' Hombre ']\n",
            "\n",
            " ACOMPAÑADO POR ALGUIEN: [' Padre ' ' Madre ' ' Solo ' ' Otro ' ' Pariente ' ' Pareja '\n",
            " ' Ambos Padres ' ' Amigo/a ']\n",
            "\n",
            "ANTECEDENTES PERINATALES NORMALES: [' Si ' ' No ' ' No sé ']\n",
            "\n",
            "ENFERMEDADES IMPORTANTES: [' No ' ' Si ' ' No sé ']\n",
            "\n",
            "TIENE DISCAPACIDAD: [' No ' ' Si ' ' No sé ']\n",
            "\n",
            "PROBLEMAS DE SALUD MENTAL: [' No ' ' No sé ' ' Si ']\n",
            "\n",
            "SUFRE VIOLENCIA: [' No ' ' Si ' ' No sé ']\n",
            "\n",
            "PROBLEMAS JUDICIALES: [' Si ' ' No ' ' No sé ']\n",
            "\n",
            "CONSUMO DE ALCOHOL Y OTRAS  DROGAS: [' Si ' ' No ' ' No sé ']\n",
            "\n",
            "MADRE Y/O PADRE ADOLESCENTE: [' No ' ' Si ' ' No sé ']\n",
            "\n",
            "NIVEL EDUCACIONAL DE MADRE O SUSTITUTA: [' Media ' ' Básica ' ' Superior ' ' Ninguno ']\n",
            "\n",
            "NIVEL EDUCACIONAL DE PADRE O SUSTITUTO: [' Media ' ' Básica ' ' Superior ' ' Ninguno ']\n",
            "\n",
            "RELACION CON SU FAMILIA: [' Buena ' ' Regular ' ' Mala ' ' No hay Relación ']\n",
            "\n",
            "HACINAMIENTO EN DOMICILIO: [' NO ' ' SI ']\n",
            "\n",
            "NIVEL DE ESTUDIO: [' Básica ' ' Media ' ' Superior ' ' No escolarizado ']\n",
            "\n",
            "VIOLENCIA ESCOLAR Y/O BULLYNG: [' NO ' ' SI ']\n",
            "\n",
            "DESERCIÓN O EXCLUSIÓN ESCOLAR: [' NO ' ' SI ']\n",
            "\n",
            "TRABAJA: [' NO ' ' SI ']\n",
            "\n",
            "TIENE AMIGOS: [' SI ' ' NO ']\n",
            "\n",
            "CONSUME TABACO: [' NO ' ' SI ']\n",
            "\n",
            "ORIENTACIÓN SEXUAL: [' Heterosexual ' ' Bisexual ' ' No Responde ' ' Homosexual ']\n",
            "\n",
            "INTENCIÓN O CONDUCTA SEXUAL: [' Postergadora ' ' Activa ' ' Anticipadora ']\n",
            "\n",
            "USO MAC ACTUAL: [' Nunca ' ' Siempre ' ' A veces ']\n",
            "\n",
            "EL ADOLESCENTE HA RECIBIDO CONSEJERÍA SOBRE MAC: [' NO ' ' SI ']\n",
            "\n",
            "VIOLENCIA SEXUAL: [' NO ' ' SI ']\n",
            "\n",
            "PERCEPCIÓN DE IMAGEN CORPORAL: [' Crea preocupación ' ' Conforme ' ' Impide relación con los demás ']\n",
            "\n",
            "PROYECCIÓN DE VIDA: [' Ausente ' ' Confuso ' ' Claro ']\n",
            "\n",
            "HA EXISTIDO IDEACIÓN SUICIDA EN EL ÚLTIMO MES: [' NO ' ' SI ']\n",
            "\n",
            "HA EXISTIDO INTENTO SUICIDA EN LOS ÚLTIMOS 3 MESES: [' NO ' ' SI ']\n",
            "\n",
            "REFERENTE ADULTO: [' Padre ' ' Madre ' ' Familiar ' ' Otro ' ' Ninguno ']\n",
            "\n",
            "DIAGNÓSTICO NUTRICIONAL: [' Obeso Severo ' ' Déficit ponderal Bajo Peso ' ' Normal o Eutrofia '\n",
            " ' Obeso ' ' Sobrepeso / Riesgo obesidad ' ' Desnutrido ']\n"
          ]
        }
      ]
    },
    {
      "cell_type": "markdown",
      "source": [
        "**Identificación de patrones**"
      ],
      "metadata": {
        "id": "JMCB670yPw6Z"
      }
    },
    {
      "cell_type": "markdown",
      "source": [
        "Gráfico de barras"
      ],
      "metadata": {
        "id": "sl8GqMw0Wy62"
      }
    },
    {
      "cell_type": "code",
      "source": [
        "from scipy.stats import norm\n",
        "plt.figure(figsize=(2, 3))\n",
        "plt.hist(df['SEXO'], bins=8, edgecolor='black', color = 'red')\n",
        "plt.title('Número de adolescentes por sexo que se realizan un control preventivo')\n",
        "plt.ylabel('Número de Controles')\n",
        "plt.xlabel('SEXO')\n",
        "plt.show()"
      ],
      "metadata": {
        "id": "WJeyE1ndWHv0",
        "colab": {
          "base_uri": "https://localhost:8080/",
          "height": 334
        },
        "outputId": "de37f904-3c2a-4d53-baa7-c31dfba50460"
      },
      "execution_count": 155,
      "outputs": [
        {
          "output_type": "display_data",
          "data": {
            "text/plain": [
              "<Figure size 200x300 with 1 Axes>"
            ],
            "image/png": "[encoded data removed]"
          },
          "metadata": {}
        }
      ]
    },
    {
      "cell_type": "markdown",
      "source": [
        "Mapas de calor"
      ],
      "metadata": {
        "id": "XoKKZUYgWrJn"
      }
    },
    {
      "cell_type": "code",
      "metadata": {
        "colab": {
          "base_uri": "https://localhost:8080/",
          "height": 488
        },
        "id": "63d3c45c",
        "outputId": "1034a957-b43c-41e2-ff77-4108bfd1589d"
      },
      "source": [
        "import pandas as pd\n",
        "import seaborn as sns\n",
        "import matplotlib.pyplot as plt\n",
        "\n",
        "df = pd.read_csv('/content/Fichas CLAP TOTAL.csv')\n",
        "df= df.drop(['NOMBRE ADOLESCENTE', 'FECHA DE NACIMIENTO', 'FECHA DE ATENCION', 'PREVISION DE SALUD', 'TIENE EL SUEÑO NORMAL'], axis=1, errors='ignore')\n",
        "\n",
        "contingency_table_desercion_consumo = pd.crosstab(df['DESERCIÓN O EXCLUSIÓN ESCOLAR'], df['CONSUMO DE ALCOHOL Y OTRAS  DROGAS'])\n",
        "\n",
        "plt.figure(figsize=(8, 5))\n",
        "sns.heatmap(contingency_table_desercion_consumo, annot=True, fmt='d', cmap='Blues')\n",
        "plt.title('Mapa de calor: Deserción Escolar vs. Consumo de Sustancias')\n",
        "plt.xlabel('Consumo de Alcohol y Otras Drogas')\n",
        "plt.ylabel('Deserción o Exclusión Escolar')\n",
        "plt.show()"
      ],
      "execution_count": 156,
      "outputs": [
        {
          "output_type": "display_data",
          "data": {
            "text/plain": [
              "<Figure size 800x500 with 2 Axes>"
            ],
            "image/png": "[encoded data removed]"
          },
          "metadata": {}
        }
      ]
    },
    {
      "cell_type": "code",
      "metadata": {
        "colab": {
          "base_uri": "https://localhost:8080/",
          "height": 487
        },
        "id": "b5f7fadb",
        "outputId": "65dbde4a-d2e1-44a4-a90a-584738dc3419"
      },
      "source": [
        "import pandas as pd\n",
        "import seaborn as sns\n",
        "import matplotlib.pyplot as plt\n",
        "\n",
        "df = pd.read_csv('/content/Fichas CLAP TOTAL.csv')\n",
        "df= df.drop(['NOMBRE ADOLESCENTE', 'FECHA DE NACIMIENTO', 'FECHA DE ATENCION', 'PREVISION DE SALUD', 'TIENE EL SUEÑO NORMAL'], axis=1, errors='ignore')\n",
        "\n",
        "contingency_table_mental_violence = pd.crosstab(df['PROBLEMAS DE SALUD MENTAL'], df['VIOLENCIA SEXUAL'])\n",
        "\n",
        "plt.figure(figsize=(8, 5))\n",
        "sns.heatmap(contingency_table_mental_violence, annot=True, fmt='d', cmap='Blues')\n",
        "plt.title('Mapa de calor: Problemas de Salud Mental vs. Violencia Sexual')\n",
        "plt.xlabel('Violencia Sexual')\n",
        "plt.ylabel('Problemas de Salud Mental')\n",
        "plt.show()"
      ],
      "execution_count": 157,
      "outputs": [
        {
          "output_type": "display_data",
          "data": {
            "text/plain": [
              "<Figure size 800x500 with 2 Axes>"
            ],
            "image/png": "[encoded data removed]"
          },
          "metadata": {}
        }
      ]
    },
    {
      "cell_type": "markdown",
      "source": [
        "Box plot"
      ],
      "metadata": {
        "id": "-p6d4AvPXsBZ"
      }
    },
    {
      "cell_type": "code",
      "source": [
        "df['EDAD'] = pd.to_numeric(df['EDAD'], errors='coerce')\n",
        "\n",
        "df_sexual= df['ORIENTACIÓN SEXUAL'].unique()\n",
        "print(df_sexual)\n",
        "\n",
        "df_cleaned_for_plot = df.dropna(subset=['EDAD', 'ORIENTACIÓN SEXUAL'])\n",
        "\n",
        "sexual_data=[df_cleaned_for_plot[df_cleaned_for_plot['ORIENTACIÓN SEXUAL']==type_sexual]['EDAD'] for type_sexual in df_cleaned_for_plot['ORIENTACIÓN SEXUAL'].unique()]\n",
        "\n",
        "plt.figure(figsize=(6,2))\n",
        "bplots=plt.boxplot(sexual_data,tick_labels=df_cleaned_for_plot['ORIENTACIÓN SEXUAL'].unique(),patch_artist=True)\n",
        "\n",
        "plt.title('Orientación sexual según la edad')\n",
        "plt.xlabel('ORIENTACIÓN SEXUAL')\n",
        "plt.ylabel('EDAD')\n",
        "plt.xticks(rotation=45, ha='right')\n",
        "\n",
        "colors= ['gray', 'black']\n",
        "\n",
        "if len(colors) >= len(bplots['boxes']):\n",
        "    for patch, color in zip(bplots['boxes'], colors):\n",
        "        patch.set_facecolor(color)\n",
        "else:\n",
        "    for patch in bplots['boxes']:\n",
        "        patch.set_facecolor('pink')\n",
        "\n",
        "plt.show()"
      ],
      "metadata": {
        "id": "MXpL0952ym35",
        "colab": {
          "base_uri": "https://localhost:8080/",
          "height": 341
        },
        "outputId": "fddc9928-06b4-4640-e031-42e23d372c95"
      },
      "execution_count": 158,
      "outputs": [
        {
          "output_type": "stream",
          "name": "stdout",
          "text": [
            "[' Heterosexual ' ' Bisexual ' ' No Responde ' ' Homosexual ']\n"
          ]
        },
        {
          "output_type": "display_data",
          "data": {
            "text/plain": [
              "<Figure size 600x200 with 1 Axes>"
            ],
            "image/png": "[encoded data removed]"
          },
          "metadata": {}
        }
      ]
    },
    {
      "cell_type": "markdown",
      "source": [
        "Transformación de datos"
      ],
      "metadata": {
        "id": "69JB282FNcDh"
      }
    },
    {
      "cell_type": "code",
      "source": [
        "from sklearn.preprocessing import LabelEncoder,OneHotEncoder,OrdinalEncoder\n",
        "from sklearn.impute import SimpleImputer\n",
        "from sklearn.pipeline import Pipeline, make_pipeline"
      ],
      "metadata": {
        "id": "7QfR7TKJSVoZ"
      },
      "execution_count": 159,
      "outputs": []
    },
    {
      "cell_type": "markdown",
      "source": [
        "Estandarización de datos: Uso de One Hot encoding"
      ],
      "metadata": {
        "id": "3ZHJ9QqwO-4T"
      }
    },
    {
      "cell_type": "code",
      "source": [
        "df.shape"
      ],
      "metadata": {
        "id": "uX2cf5UPksfj",
        "colab": {
          "base_uri": "https://localhost:8080/"
        },
        "outputId": "4dfcfa7d-75b8-4930-d518-a4af51798122"
      },
      "execution_count": 160,
      "outputs": [
        {
          "output_type": "execute_result",
          "data": {
            "text/plain": [
              "(986, 40)"
            ]
          },
          "metadata": {},
          "execution_count": 160
        }
      ]
    },
    {
      "cell_type": "code",
      "source": [
        "df.columns"
      ],
      "metadata": {
        "id": "bP900Dkckh3o",
        "colab": {
          "base_uri": "https://localhost:8080/"
        },
        "outputId": "e6599b72-b041-42bc-e019-57b9e0b3f0da"
      },
      "execution_count": 161,
      "outputs": [
        {
          "output_type": "execute_result",
          "data": {
            "text/plain": [
              "Index(['ESTABLECIMIENTO DE SALUD', 'RUT', 'EDAD', 'PUEBLO ORIGINARIO',\n",
              "       'NACIONALIDAD', 'SEXO', 'PROFESIONAL QUE APLICA INSTRUMENTO',\n",
              "       ' ACOMPAÑADO POR ALGUIEN', 'ANTECEDENTES PERINATALES NORMALES',\n",
              "       'ENFERMEDADES IMPORTANTES', 'TIENE DISCAPACIDAD',\n",
              "       'PROBLEMAS DE SALUD MENTAL', 'SUFRE VIOLENCIA', 'PROBLEMAS JUDICIALES',\n",
              "       'CONSUMO DE ALCOHOL Y OTRAS  DROGAS', 'MADRE Y/O PADRE ADOLESCENTE',\n",
              "       'NIVEL EDUCACIONAL DE MADRE O SUSTITUTA',\n",
              "       'NIVEL EDUCACIONAL DE PADRE O SUSTITUTO', 'RELACION CON SU FAMILIA',\n",
              "       'COMPARTE CAMA CON ALGUIEN', 'CONDICIONES SANITARIAS DE DOMICILIO',\n",
              "       'HACINAMIENTO EN DOMICILIO', 'NIVEL DE ESTUDIO',\n",
              "       'PROBLEMA EN INSTITUCIÓN EDUCATIVA', 'VIOLENCIA ESCOLAR Y/O BULLYNG',\n",
              "       'DESERCIÓN O EXCLUSIÓN ESCOLAR', 'TRABAJA', 'TIENE AMIGOS',\n",
              "       'CONSUME TABACO', 'ORIENTACIÓN SEXUAL', 'INTENCIÓN O CONDUCTA SEXUAL',\n",
              "       'USO MAC ACTUAL', 'EL ADOLESCENTE HA RECIBIDO CONSEJERÍA SOBRE MAC',\n",
              "       'VIOLENCIA SEXUAL', 'PERCEPCIÓN DE IMAGEN CORPORAL',\n",
              "       'PROYECCIÓN DE VIDA', 'HA EXISTIDO IDEACIÓN SUICIDA EN EL ÚLTIMO MES',\n",
              "       'HA EXISTIDO INTENTO SUICIDA EN LOS ÚLTIMOS 3 MESES',\n",
              "       'REFERENTE ADULTO', 'DIAGNÓSTICO NUTRICIONAL'],\n",
              "      dtype='object')"
            ]
          },
          "metadata": {},
          "execution_count": 161
        }
      ]
    },
    {
      "cell_type": "code",
      "source": [
        "columnas_categoricas = ['ESTABLECIMIENTO DE SALUD', 'PROFESIONAL QUE APLICA INSTRUMENTO', 'CONDICIONES SANITARIAS DE DOMICILIO' , 'PROBLEMA EN INSTITUCIÓN EDUCATIVA', 'NACIONALIDAD', 'SEXO', ' ACOMPAÑADO POR ALGUIEN', 'ANTECEDENTES PERINATALES NORMALES', 'ENFERMEDADES IMPORTANTES', 'TIENE DISCAPACIDAD', 'PROBLEMAS DE SALUD MENTAL', 'SUFRE VIOLENCIA', 'PROBLEMAS JUDICIALES', 'CONSUMO DE ALCOHOL Y OTRAS  DROGAS', 'MADRE Y/O PADRE ADOLESCENTE', 'NIVEL EDUCACIONAL DE MADRE O SUSTITUTA', 'NIVEL EDUCACIONAL DE PADRE O SUSTITUTO', 'RELACION CON SU FAMILIA','HACINAMIENTO EN DOMICILIO', 'NIVEL DE ESTUDIO', 'VIOLENCIA ESCOLAR Y/O BULLYNG', 'DESERCIÓN O EXCLUSIÓN ESCOLAR', 'TRABAJA', 'TIENE AMIGOS', 'CONSUME TABACO', 'ORIENTACIÓN SEXUAL', 'INTENCIÓN O CONDUCTA SEXUAL', 'USO MAC ACTUAL', 'EL ADOLESCENTE HA RECIBIDO CONSEJERÍA SOBRE MAC', 'VIOLENCIA SEXUAL', 'PERCEPCIÓN DE IMAGEN CORPORAL', 'PROYECCIÓN DE VIDA', 'HA EXISTIDO IDEACIÓN SUICIDA EN EL ÚLTIMO MES', 'HA EXISTIDO INTENTO SUICIDA EN LOS ÚLTIMOS 3 MESES', 'REFERENTE ADULTO', 'DIAGNÓSTICO NUTRICIONAL']\n",
        "\n",
        "df_encoded = pd.get_dummies(df, columns=columnas_categoricas)\n",
        "\n",
        "print(df_encoded.head())"
      ],
      "metadata": {
        "id": "DgA2Lyxm1S0r",
        "colab": {
          "base_uri": "https://localhost:8080/"
        },
        "outputId": "24947951-ef1c-4f03-89dd-25750fa25f82"
      },
      "execution_count": 162,
      "outputs": [
        {
          "output_type": "stream",
          "name": "stdout",
          "text": [
            "            RUT  EDAD PUEBLO ORIGINARIO COMPARTE CAMA CON ALGUIEN  \\\n",
            "0   22977057-8     13          Ninguno                        NO    \n",
            "1   22599229-0     14          Ninguno                        NO    \n",
            "2   23300139-2     12          Ninguno                        NO    \n",
            "3   21928882-4     16          Ninguno                        NO    \n",
            "4   22717004-2     13          Ninguno                        NO    \n",
            "\n",
            "   ESTABLECIMIENTO DE SALUD_ CECOSF Dr. Héctor García   \\\n",
            "0                                              False     \n",
            "1                                              False     \n",
            "2                                              False     \n",
            "3                                              False     \n",
            "4                                              False     \n",
            "\n",
            "   ESTABLECIMIENTO DE SALUD_ CECOSF Dr. Ramón Galindo   \\\n",
            "0                                              False     \n",
            "1                                              False     \n",
            "2                                              False     \n",
            "3                                              False     \n",
            "4                                              False     \n",
            "\n",
            "   ESTABLECIMIENTO DE SALUD_ Centro de Salud Familiar Alto Jahuel   \\\n",
            "0                                              False                 \n",
            "1                                              False                 \n",
            "2                                              False                 \n",
            "3                                              False                 \n",
            "4                                              False                 \n",
            "\n",
            "   ESTABLECIMIENTO DE SALUD_ Centro de Salud Familiar Dr. Héctor García   \\\n",
            "0                                              False                       \n",
            "1                                              False                       \n",
            "2                                              False                       \n",
            "3                                              False                       \n",
            "4                                              False                       \n",
            "\n",
            "   ESTABLECIMIENTO DE SALUD_ Centro de Salud Familiar Maipo   \\\n",
            "0                                               True           \n",
            "1                                               True           \n",
            "2                                               True           \n",
            "3                                               True           \n",
            "4                                               True           \n",
            "\n",
            "   ESTABLECIMIENTO DE SALUD_ Posta de Salud Rural El Recurso   ...  \\\n",
            "0                                              False           ...   \n",
            "1                                              False           ...   \n",
            "2                                              False           ...   \n",
            "3                                              False           ...   \n",
            "4                                              False           ...   \n",
            "\n",
            "   REFERENTE ADULTO_ Madre   REFERENTE ADULTO_ Ninguno   \\\n",
            "0                     False                       False   \n",
            "1                      True                       False   \n",
            "2                      True                       False   \n",
            "3                      True                       False   \n",
            "4                     False                       False   \n",
            "\n",
            "   REFERENTE ADULTO_ Otro   REFERENTE ADULTO_ Padre   \\\n",
            "0                    False                      True   \n",
            "1                    False                     False   \n",
            "2                    False                     False   \n",
            "3                    False                     False   \n",
            "4                    False                     False   \n",
            "\n",
            "   DIAGNÓSTICO NUTRICIONAL_ Desnutrido   \\\n",
            "0                                 False   \n",
            "1                                 False   \n",
            "2                                 False   \n",
            "3                                 False   \n",
            "4                                 False   \n",
            "\n",
            "   DIAGNÓSTICO NUTRICIONAL_ Déficit ponderal Bajo Peso   \\\n",
            "0                                              False      \n",
            "1                                               True      \n",
            "2                                              False      \n",
            "3                                              False      \n",
            "4                                              False      \n",
            "\n",
            "   DIAGNÓSTICO NUTRICIONAL_ Normal o Eutrofia   \\\n",
            "0                                        False   \n",
            "1                                        False   \n",
            "2                                         True   \n",
            "3                                         True   \n",
            "4                                        False   \n",
            "\n",
            "   DIAGNÓSTICO NUTRICIONAL_ Obeso   DIAGNÓSTICO NUTRICIONAL_ Obeso Severo   \\\n",
            "0                            False                                    True   \n",
            "1                            False                                   False   \n",
            "2                            False                                   False   \n",
            "3                            False                                   False   \n",
            "4                             True                                   False   \n",
            "\n",
            "   DIAGNÓSTICO NUTRICIONAL_ Sobrepeso / Riesgo obesidad   \n",
            "0                                              False      \n",
            "1                                              False      \n",
            "2                                              False      \n",
            "3                                              False      \n",
            "4                                              False      \n",
            "\n",
            "[5 rows x 126 columns]\n"
          ]
        }
      ]
    },
    {
      "cell_type": "markdown",
      "source": [
        "Normalización de datos"
      ],
      "metadata": {
        "id": "NUr-wGdnuk6_"
      }
    },
    {
      "cell_type": "code",
      "source": [
        "from sklearn.preprocessing import MinMaxScaler, StandardScaler, MaxAbsScaler"
      ],
      "metadata": {
        "id": "j5C6VanouiAI"
      },
      "execution_count": 163,
      "outputs": []
    },
    {
      "cell_type": "code",
      "source": [
        "import pandas as pd\n",
        "\n",
        "columnas_numericas_para_zscore = ['EDAD']\n",
        "\n",
        "scaler = StandardScaler()\n",
        "\n",
        "df_encoded[columnas_numericas_para_zscore] = scaler.fit_transform(df_encoded[columnas_numericas_para_zscore])\n",
        "\n",
        "print(\"\\nDataFrame normalizado con Z-score:\")\n",
        "print(df_encoded.head())\n",
        "\n",
        "print(\"\\nVerificación de media y desviación estándar (deberían ser aproximadamente 0 y 1):\")\n",
        "print(df_encoded[columnas_numericas_para_zscore].mean())\n",
        "print(df_encoded[columnas_numericas_para_zscore].std())"
      ],
      "metadata": {
        "id": "XU62OsvV0-xm",
        "colab": {
          "base_uri": "https://localhost:8080/"
        },
        "outputId": "b3e2005a-b5f5-49f6-80bf-62339f5040ef"
      },
      "execution_count": 164,
      "outputs": [
        {
          "output_type": "stream",
          "name": "stdout",
          "text": [
            "\n",
            "DataFrame normalizado con Z-score:\n",
            "            RUT      EDAD PUEBLO ORIGINARIO COMPARTE CAMA CON ALGUIEN  \\\n",
            "0   22977057-8  -0.737180          Ninguno                        NO    \n",
            "1   22599229-0  -0.328373          Ninguno                        NO    \n",
            "2   23300139-2  -1.145987          Ninguno                        NO    \n",
            "3   21928882-4   0.489242          Ninguno                        NO    \n",
            "4   22717004-2  -0.737180          Ninguno                        NO    \n",
            "\n",
            "   ESTABLECIMIENTO DE SALUD_ CECOSF Dr. Héctor García   \\\n",
            "0                                              False     \n",
            "1                                              False     \n",
            "2                                              False     \n",
            "3                                              False     \n",
            "4                                              False     \n",
            "\n",
            "   ESTABLECIMIENTO DE SALUD_ CECOSF Dr. Ramón Galindo   \\\n",
            "0                                              False     \n",
            "1                                              False     \n",
            "2                                              False     \n",
            "3                                              False     \n",
            "4                                              False     \n",
            "\n",
            "   ESTABLECIMIENTO DE SALUD_ Centro de Salud Familiar Alto Jahuel   \\\n",
            "0                                              False                 \n",
            "1                                              False                 \n",
            "2                                              False                 \n",
            "3                                              False                 \n",
            "4                                              False                 \n",
            "\n",
            "   ESTABLECIMIENTO DE SALUD_ Centro de Salud Familiar Dr. Héctor García   \\\n",
            "0                                              False                       \n",
            "1                                              False                       \n",
            "2                                              False                       \n",
            "3                                              False                       \n",
            "4                                              False                       \n",
            "\n",
            "   ESTABLECIMIENTO DE SALUD_ Centro de Salud Familiar Maipo   \\\n",
            "0                                               True           \n",
            "1                                               True           \n",
            "2                                               True           \n",
            "3                                               True           \n",
            "4                                               True           \n",
            "\n",
            "   ESTABLECIMIENTO DE SALUD_ Posta de Salud Rural El Recurso   ...  \\\n",
            "0                                              False           ...   \n",
            "1                                              False           ...   \n",
            "2                                              False           ...   \n",
            "3                                              False           ...   \n",
            "4                                              False           ...   \n",
            "\n",
            "   REFERENTE ADULTO_ Madre   REFERENTE ADULTO_ Ninguno   \\\n",
            "0                     False                       False   \n",
            "1                      True                       False   \n",
            "2                      True                       False   \n",
            "3                      True                       False   \n",
            "4                     False                       False   \n",
            "\n",
            "   REFERENTE ADULTO_ Otro   REFERENTE ADULTO_ Padre   \\\n",
            "0                    False                      True   \n",
            "1                    False                     False   \n",
            "2                    False                     False   \n",
            "3                    False                     False   \n",
            "4                    False                     False   \n",
            "\n",
            "   DIAGNÓSTICO NUTRICIONAL_ Desnutrido   \\\n",
            "0                                 False   \n",
            "1                                 False   \n",
            "2                                 False   \n",
            "3                                 False   \n",
            "4                                 False   \n",
            "\n",
            "   DIAGNÓSTICO NUTRICIONAL_ Déficit ponderal Bajo Peso   \\\n",
            "0                                              False      \n",
            "1                                               True      \n",
            "2                                              False      \n",
            "3                                              False      \n",
            "4                                              False      \n",
            "\n",
            "   DIAGNÓSTICO NUTRICIONAL_ Normal o Eutrofia   \\\n",
            "0                                        False   \n",
            "1                                        False   \n",
            "2                                         True   \n",
            "3                                         True   \n",
            "4                                        False   \n",
            "\n",
            "   DIAGNÓSTICO NUTRICIONAL_ Obeso   DIAGNÓSTICO NUTRICIONAL_ Obeso Severo   \\\n",
            "0                            False                                    True   \n",
            "1                            False                                   False   \n",
            "2                            False                                   False   \n",
            "3                            False                                   False   \n",
            "4                             True                                   False   \n",
            "\n",
            "   DIAGNÓSTICO NUTRICIONAL_ Sobrepeso / Riesgo obesidad   \n",
            "0                                              False      \n",
            "1                                              False      \n",
            "2                                              False      \n",
            "3                                              False      \n",
            "4                                              False      \n",
            "\n",
            "[5 rows x 126 columns]\n",
            "\n",
            "Verificación de media y desviación estándar (deberían ser aproximadamente 0 y 1):\n",
            "EDAD   -3.152763e-16\n",
            "dtype: float64\n",
            "EDAD    1.000507\n",
            "dtype: float64\n"
          ]
        }
      ]
    },
    {
      "cell_type": "markdown",
      "source": [
        "# **3. Entrenamiento del modelo**"
      ],
      "metadata": {
        "id": "K2LGQaCiXJWf"
      }
    },
    {
      "cell_type": "markdown",
      "source": [
        "Variable objetivo"
      ],
      "metadata": {
        "id": "xlleYSxduKkU"
      }
    },
    {
      "cell_type": "code",
      "source": [
        "print(df[\"USO MAC ACTUAL\"].value_counts()/len(df))"
      ],
      "metadata": {
        "id": "Z7-jqwG-t_kP",
        "colab": {
          "base_uri": "https://localhost:8080/"
        },
        "outputId": "80c36c40-9d7a-4fad-8511-44b602e8243e"
      },
      "execution_count": 165,
      "outputs": [
        {
          "output_type": "stream",
          "name": "stdout",
          "text": [
            "USO MAC ACTUAL\n",
            "Nunca       0.615619\n",
            "Siempre     0.349899\n",
            "A veces     0.034483\n",
            "Name: count, dtype: float64\n"
          ]
        }
      ]
    },
    {
      "cell_type": "code",
      "source": [
        "df[\"USO MAC ACTUAL\"].value_counts()/len(df)"
      ],
      "metadata": {
        "id": "jaydOa_3anXU",
        "colab": {
          "base_uri": "https://localhost:8080/",
          "height": 210
        },
        "outputId": "e79c3264-0d3e-486b-f1d8-396128506bf0"
      },
      "execution_count": 166,
      "outputs": [
        {
          "output_type": "execute_result",
          "data": {
            "text/plain": [
              "USO MAC ACTUAL\n",
              "Nunca       0.615619\n",
              "Siempre     0.349899\n",
              "A veces     0.034483\n",
              "Name: count, dtype: float64"
            ],
            "text/html": [
              "<div>\n",
              "<style scoped>\n",
              "    .dataframe tbody tr th:only-of-type {\n",
              "        vertical-align: middle;\n",
              "    }\n",
              "\n",
              "    .dataframe tbody tr th {\n",
              "        vertical-align: top;\n",
              "    }\n",
              "\n",
              "    .dataframe thead th {\n",
              "        text-align: right;\n",
              "    }\n",
              "</style>\n",
              "<table border=\"1\" class=\"dataframe\">\n",
              "  <thead>\n",
              "    <tr style=\"text-align: right;\">\n",
              "      <th></th>\n",
              "      <th>count</th>\n",
              "    </tr>\n",
              "    <tr>\n",
              "      <th>USO MAC ACTUAL</th>\n",
              "      <th></th>\n",
              "    </tr>\n",
              "  </thead>\n",
              "  <tbody>\n",
              "    <tr>\n",
              "      <th>Nunca</th>\n",
              "      <td>0.615619</td>\n",
              "    </tr>\n",
              "    <tr>\n",
              "      <th>Siempre</th>\n",
              "      <td>0.349899</td>\n",
              "    </tr>\n",
              "    <tr>\n",
              "      <th>A veces</th>\n",
              "      <td>0.034483</td>\n",
              "    </tr>\n",
              "  </tbody>\n",
              "</table>\n",
              "</div><br><label><b>dtype:</b> float64</label>"
            ]
          },
          "metadata": {},
          "execution_count": 166
        }
      ]
    },
    {
      "cell_type": "markdown",
      "source": [
        "USO DE RANDOM FOREST"
      ],
      "metadata": {
        "id": "AF35VN6jSw4c"
      }
    },
    {
      "cell_type": "code",
      "source": [
        "from sklearn.feature_selection import RFE\n",
        "from sklearn.compose import ColumnTransformer\n",
        "from sklearn.preprocessing import OneHotEncoder\n",
        "from sklearn.pipeline import Pipeline\n",
        "from sklearn.impute import SimpleImputer"
      ],
      "metadata": {
        "id": "58mw0W08UMiY"
      },
      "execution_count": 167,
      "outputs": []
    },
    {
      "cell_type": "code",
      "source": [
        "!pip install category_encoders\n",
        "\n",
        "from sklearn.feature_selection import RFE\n",
        "from sklearn.compose import ColumnTransformer\n",
        "from sklearn.preprocessing import OneHotEncoder\n",
        "from sklearn.pipeline import Pipeline\n",
        "from sklearn.impute import SimpleImputer\n",
        "import category_encoders as ce"
      ],
      "metadata": {
        "id": "ro72QcFwXrGR",
        "colab": {
          "base_uri": "https://localhost:8080/"
        },
        "outputId": "b23d86c2-c35b-4529-aad9-f94cdd20f74c"
      },
      "execution_count": 168,
      "outputs": [
        {
          "output_type": "stream",
          "name": "stdout",
          "text": [
            "Requirement already satisfied: category_encoders in /usr/local/lib/python3.11/dist-packages (2.8.1)\n",
            "Requirement already satisfied: numpy>=1.14.0 in /usr/local/lib/python3.11/dist-packages (from category_encoders) (2.0.2)\n",
            "Requirement already satisfied: pandas>=1.0.5 in /usr/local/lib/python3.11/dist-packages (from category_encoders) (2.2.2)\n",
            "Requirement already satisfied: patsy>=0.5.1 in /usr/local/lib/python3.11/dist-packages (from category_encoders) (1.0.1)\n",
            "Requirement already satisfied: scikit-learn>=1.6.0 in /usr/local/lib/python3.11/dist-packages (from category_encoders) (1.6.0)\n",
            "Requirement already satisfied: scipy>=1.0.0 in /usr/local/lib/python3.11/dist-packages (from category_encoders) (1.15.3)\n",
            "Requirement already satisfied: statsmodels>=0.9.0 in /usr/local/lib/python3.11/dist-packages (from category_encoders) (0.14.4)\n",
            "Requirement already satisfied: python-dateutil>=2.8.2 in /usr/local/lib/python3.11/dist-packages (from pandas>=1.0.5->category_encoders) (2.9.0.post0)\n",
            "Requirement already satisfied: pytz>=2020.1 in /usr/local/lib/python3.11/dist-packages (from pandas>=1.0.5->category_encoders) (2025.2)\n",
            "Requirement already satisfied: tzdata>=2022.7 in /usr/local/lib/python3.11/dist-packages (from pandas>=1.0.5->category_encoders) (2025.2)\n",
            "Requirement already satisfied: joblib>=1.2.0 in /usr/local/lib/python3.11/dist-packages (from scikit-learn>=1.6.0->category_encoders) (1.5.1)\n",
            "Requirement already satisfied: threadpoolctl>=3.1.0 in /usr/local/lib/python3.11/dist-packages (from scikit-learn>=1.6.0->category_encoders) (3.6.0)\n",
            "Requirement already satisfied: packaging>=21.3 in /usr/local/lib/python3.11/dist-packages (from statsmodels>=0.9.0->category_encoders) (24.2)\n",
            "Requirement already satisfied: six>=1.5 in /usr/local/lib/python3.11/dist-packages (from python-dateutil>=2.8.2->pandas>=1.0.5->category_encoders) (1.17.0)\n"
          ]
        }
      ]
    },
    {
      "cell_type": "markdown",
      "source": [
        "Entrenando el modelo"
      ],
      "metadata": {
        "id": "e7ru5L2OLSi3"
      }
    },
    {
      "cell_type": "code",
      "source": [
        "np.random.seed(42)\n",
        "data = {\n",
        "    'EDAD': np.random.randint(10, 19, 200),\n",
        "    'NACIONALIDAD': np.random.randint(0, 2, 200),\n",
        "    'SEXO': np.random.randint(0, 2, 200),\n",
        "    ' ACOMPAÑADO POR ALGUIEN': np.random.randint(0, 2, 200),\n",
        "    'PROBLEMAS DE SALUD MENTAL': np.random.randint(0, 2, 200),\n",
        "    'TIENE DISCAPACIDAD': np.random.randint(0, 2, 200),\n",
        "    'CONSUMO DE ALCOHOL Y OTRAS  DROGAS': np.random.randint(0, 2, 200),\n",
        "    'NIVEL EDUCACIONAL DE MADRE O SUSTITUTA': np.random.randint(0, 5, 200),\n",
        "    'NIVEL EDUCACIONAL DE PADRE O SUSTITUTO': np.random.randint(0, 5, 200),\n",
        "    'DESERCIÓN O EXCLUSIÓN ESCOLAR': np.random.randint(0, 2, 200),\n",
        "    'TRABAJA': np.random.randint(0, 2, 200),\n",
        "    'CONSUME TABACO': np.random.randint(0, 2, 200),\n",
        "    'ORIENTACIÓN SEXUAL': np.random.randint(0, 2, 200),\n",
        "    'INTENCIÓN O CONDUCTA SEXUAL': np.random.randint(0, 2, 200),\n",
        "    'USO MAC ACTUAL': np.random.randint(0, 2, 200)  # Variable objetivo\n",
        "}\n",
        "\n",
        "df = pd.DataFrame(data)\n",
        "\n",
        "import numpy as np\n",
        "import pandas as pd\n",
        "from sklearn.model_selection import train_test_split\n",
        "from sklearn.ensemble import RandomForestClassifier\n",
        "from sklearn.metrics import accuracy_score, precision_score, recall_score, f1_score\n",
        "import matplotlib.pyplot as plt\n",
        "\n",
        "X = df.drop(columns=['USO MAC ACTUAL'])  # Características\n",
        "y = df['USO MAC ACTUAL']  # Variable objetivo\n",
        "\n",
        "# Divición de los datos en conjunto de entrenamiento (80%) y conjunto de prueba (20%)\n",
        "X_train, X_test, y_train, y_test = train_test_split(X, y, test_size=0.2, random_state=42)\n",
        "\n",
        "# Creación del modelo Random Forest\n",
        "rf_model = RandomForestClassifier(n_estimators=100, random_state=42)\n",
        "\n",
        "# Entrenar el modelo con los datos de entrenamiento\n",
        "rf_model.fit(X_train, y_train)\n",
        "\n",
        "# Realizar predicciones con los datos de prueba\n",
        "y_pred = rf_model.predict(X_test)\n",
        "\n",
        "# Evaluar la precisión del modelo con las métricas de evaluación de clasificación\n",
        "recall = recall_score(y_test, y_pred)\n",
        "print(f\"Precisión del modelo con recall_score: {recall:.2f}\")\n",
        "\n",
        "f1 = f1_score(y_test, y_pred)\n",
        "print(f\"Precisión del modelo con f1_score: {f1:.2f}\")"
      ],
      "metadata": {
        "id": "aW64XfgU7Kes",
        "colab": {
          "base_uri": "https://localhost:8080/"
        },
        "outputId": "b67890d7-0fce-4bae-9fb9-2750e97c3488"
      },
      "execution_count": 169,
      "outputs": [
        {
          "output_type": "stream",
          "name": "stdout",
          "text": [
            "Precisión del modelo con recall_score: 0.71\n",
            "Precisión del modelo con f1_score: 0.60\n"
          ]
        }
      ]
    },
    {
      "cell_type": "markdown",
      "source": [
        "Importancia de las características"
      ],
      "metadata": {
        "id": "Zlx3c6N_Ld81"
      }
    },
    {
      "cell_type": "code",
      "source": [
        "importances = rf_model.feature_importances_\n",
        "\n",
        "features = X.columns\n",
        "indices = np.argsort(importances)[::-1]\n",
        "\n",
        "plt.figure(figsize=(10, 6))\n",
        "plt.title(\"Importancia de las Características\")\n",
        "plt.barh(range(len(indices)), importances[indices], align='center')\n",
        "plt.yticks(range(len(indices)), [features[i] for i in indices])\n",
        "plt.xlabel('Importancia Relativa')\n",
        "plt.show()"
      ],
      "metadata": {
        "id": "aUOTZxUiLcFf",
        "colab": {
          "base_uri": "https://localhost:8080/",
          "height": 565
        },
        "outputId": "1743922f-4b0a-4d35-ff19-0ee80d332d5b"
      },
      "execution_count": 170,
      "outputs": [
        {
          "output_type": "display_data",
          "data": {
            "text/plain": [
              "<Figure size 1000x600 with 1 Axes>"
            ],
            "image/png": "[encoded data removed]"
          },
          "metadata": {}
        }
      ]
    },
    {
      "cell_type": "markdown",
      "source": [
        "Matriz de confusión"
      ],
      "metadata": {
        "id": "rbQE_AFULhnt"
      }
    },
    {
      "cell_type": "code",
      "source": [
        "from sklearn.metrics import ConfusionMatrixDisplay\n",
        "\n",
        "ConfusionMatrixDisplay.from_predictions(y_test,y_pred);"
      ],
      "metadata": {
        "id": "1ZFqsHv92Qn7",
        "colab": {
          "base_uri": "https://localhost:8080/",
          "height": 449
        },
        "outputId": "0897a60b-830e-41fe-dc22-8dae2cc186b6"
      },
      "execution_count": 171,
      "outputs": [
        {
          "output_type": "display_data",
          "data": {
            "text/plain": [
              "<Figure size 640x480 with 2 Axes>"
            ],
            "image/png": "[encoded data removed]"
          },
          "metadata": {}
        }
      ]
    },
    {
      "cell_type": "markdown",
      "source": [
        "Curva de aprendizaje"
      ],
      "metadata": {
        "id": "joNxyE7kLm2r"
      }
    },
    {
      "cell_type": "code",
      "source": [
        "from sklearn.model_selection import learning_curve\n",
        "import matplotlib.pyplot as plt\n",
        "import numpy as np\n",
        "\n",
        "rf_model = RandomForestClassifier(n_estimators=100, random_state=42)\n",
        "\n",
        "train_sizes, train_scores, test_scores = learning_curve(\n",
        "    rf_model, X, y, cv=5, n_jobs=-1, train_sizes=np.linspace(0.1, 1.0, 10))\n",
        "\n",
        "train_scores_mean = np.mean(train_scores, axis=1)\n",
        "train_scores_std = np.std(train_scores, axis=1)\n",
        "test_scores_mean = np.mean(test_scores, axis=1)\n",
        "test_scores_std = np.std(test_scores, axis=1)\n",
        "\n",
        "plt.figure(figsize=(10, 6))\n",
        "plt.title(\"Curva de Aprendizaje para Random Forest\")\n",
        "plt.xlabel(\"Tamaño del Conjunto de Entrenamiento\")\n",
        "plt.ylabel(\"Score\")\n",
        "plt.grid()\n",
        "\n",
        "plt.fill_between(train_sizes, train_scores_mean - train_scores_std,\n",
        "                 train_scores_mean + train_scores_std, alpha=0.1,\n",
        "                 color=\"r\")\n",
        "plt.fill_between(train_sizes, test_scores_mean - test_scores_std,\n",
        "                 test_scores_mean + test_scores_std, alpha=0.1, color=\"g\")\n",
        "plt.plot(train_sizes, train_scores_mean, 'o-', color=\"r\",\n",
        "         label=\"Score de Entrenamiento\")\n",
        "plt.plot(train_sizes, test_scores_mean, 'o-', color=\"g\",\n",
        "         label=\"Score de Validación Cruzada\")\n",
        "\n",
        "plt.legend(loc=\"best\")\n",
        "plt.show()"
      ],
      "metadata": {
        "id": "zfj65JaHz6SN",
        "colab": {
          "base_uri": "https://localhost:8080/",
          "height": 564
        },
        "outputId": "18fba9a0-f117-4a04-ac63-2883440072a4"
      },
      "execution_count": 172,
      "outputs": [
        {
          "output_type": "display_data",
          "data": {
            "text/plain": [
              "<Figure size 1000x600 with 1 Axes>"
            ],
            "image/png": "[encoded data removed]"
          },
          "metadata": {}
        }
      ]
    }
  ]
}